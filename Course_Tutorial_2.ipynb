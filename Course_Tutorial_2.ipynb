{
 "cells": [
  {
   "cell_type": "markdown",
   "metadata": {},
   "source": [
    "*Notebook created by Mubashshir Ali for the purpose of Climate Risk Assessment lecture*"
   ]
  },
  {
   "cell_type": "markdown",
   "metadata": {
    "toc": true
   },
   "source": [
    "<h1>Table of Contents<span class=\"tocSkip\"></span></h1>\n",
    "<div class=\"toc\"><ul class=\"toc-item\"><li><span><a href=\"#Imports\" data-toc-modified-id=\"Imports-1\"><span class=\"toc-item-num\">1&nbsp;&nbsp;</span>Imports</a></span></li><li><span><a href=\"#Ploting-a-simple-canvas\" data-toc-modified-id=\"Ploting-a-simple-canvas-2\"><span class=\"toc-item-num\">2&nbsp;&nbsp;</span>Ploting a simple canvas</a></span><ul class=\"toc-item\"><li><span><a href=\"#Making-nicer-plots-with-seaborn\" data-toc-modified-id=\"Making-nicer-plots-with-seaborn-2.1\"><span class=\"toc-item-num\">2.1&nbsp;&nbsp;</span>Making nicer plots with seaborn</a></span></li><li><span><a href=\"#Ploting-multiple-lines\" data-toc-modified-id=\"Ploting-multiple-lines-2.2\"><span class=\"toc-item-num\">2.2&nbsp;&nbsp;</span>Ploting multiple lines</a></span></li><li><span><a href=\"#Adjusting-colors\" data-toc-modified-id=\"Adjusting-colors-2.3\"><span class=\"toc-item-num\">2.3&nbsp;&nbsp;</span>Adjusting colors</a></span></li><li><span><a href=\"#Different-line-styles\" data-toc-modified-id=\"Different-line-styles-2.4\"><span class=\"toc-item-num\">2.4&nbsp;&nbsp;</span>Different line styles</a></span></li></ul></li><li><span><a href=\"#Geographic-ploting\" data-toc-modified-id=\"Geographic-ploting-3\"><span class=\"toc-item-num\">3&nbsp;&nbsp;</span>Geographic ploting</a></span><ul class=\"toc-item\"><li><span><a href=\"#Adding-more-features\" data-toc-modified-id=\"Adding-more-features-3.1\"><span class=\"toc-item-num\">3.1&nbsp;&nbsp;</span>Adding more features</a></span></li></ul></li><li><span><a href=\"#Model-data-ploting\" data-toc-modified-id=\"Model-data-ploting-4\"><span class=\"toc-item-num\">4&nbsp;&nbsp;</span>Model data ploting</a></span><ul class=\"toc-item\"><li><span><a href=\"#Loading-file\" data-toc-modified-id=\"Loading-file-4.1\"><span class=\"toc-item-num\">4.1&nbsp;&nbsp;</span>Loading file</a></span></li><li><span><a href=\"#Quick-plot\" data-toc-modified-id=\"Quick-plot-4.2\"><span class=\"toc-item-num\">4.2&nbsp;&nbsp;</span>Quick plot</a></span><ul class=\"toc-item\"><li><span><a href=\"#Selecting-data\" data-toc-modified-id=\"Selecting-data-4.2.1\"><span class=\"toc-item-num\">4.2.1&nbsp;&nbsp;</span>Selecting data</a></span></li><li><span><a href=\"#Multiple-plot\" data-toc-modified-id=\"Multiple-plot-4.2.2\"><span class=\"toc-item-num\">4.2.2&nbsp;&nbsp;</span>Multiple plot</a></span></li></ul></li><li><span><a href=\"#Detailed-plot\" data-toc-modified-id=\"Detailed-plot-4.3\"><span class=\"toc-item-num\">4.3&nbsp;&nbsp;</span>Detailed plot</a></span></li><li><span><a href=\"#Colorbar\" data-toc-modified-id=\"Colorbar-4.4\"><span class=\"toc-item-num\">4.4&nbsp;&nbsp;</span>Colorbar</a></span><ul class=\"toc-item\"><li><span><a href=\"#Some-example-color-bars\" data-toc-modified-id=\"Some-example-color-bars-4.4.1\"><span class=\"toc-item-num\">4.4.1&nbsp;&nbsp;</span>Some example color bars</a></span></li></ul></li><li><span><a href=\"#Levels\" data-toc-modified-id=\"Levels-4.5\"><span class=\"toc-item-num\">4.5&nbsp;&nbsp;</span>Levels</a></span><ul class=\"toc-item\"><li><span><a href=\"#making-custom-levels\" data-toc-modified-id=\"making-custom-levels-4.5.1\"><span class=\"toc-item-num\">4.5.1&nbsp;&nbsp;</span>making custom levels</a></span></li></ul></li><li><span><a href=\"#Adding-Population-data\" data-toc-modified-id=\"Adding-Population-data-4.6\"><span class=\"toc-item-num\">4.6&nbsp;&nbsp;</span>Adding Population data</a></span></li></ul></li><li><span><a href=\"#Teaser\" data-toc-modified-id=\"Teaser-5\"><span class=\"toc-item-num\">5&nbsp;&nbsp;</span>Teaser</a></span><ul class=\"toc-item\"><li><span><a href=\"#Temperature-time-series-for-Berlin\" data-toc-modified-id=\"Temperature-time-series-for-Berlin-5.1\"><span class=\"toc-item-num\">5.1&nbsp;&nbsp;</span>Temperature time-series for Berlin</a></span></li><li><span><a href=\"#Seasonal-temperature\" data-toc-modified-id=\"Seasonal-temperature-5.2\"><span class=\"toc-item-num\">5.2&nbsp;&nbsp;</span>Seasonal temperature</a></span></li></ul></li><li><span><a href=\"#References-&amp;-Further-Reading\" data-toc-modified-id=\"References-&amp;-Further-Reading-6\"><span class=\"toc-item-num\">6&nbsp;&nbsp;</span>References &amp; Further Reading</a></span></li></ul></div>"
   ]
  },
  {
   "cell_type": "markdown",
   "metadata": {},
   "source": [
    "\n",
    "Here, we will take a look of plotting using matplotlib library of Python"
   ]
  },
  {
   "cell_type": "markdown",
   "metadata": {},
   "source": [
    "# Imports"
   ]
  },
  {
   "cell_type": "code",
   "execution_count": null,
   "metadata": {},
   "outputs": [],
   "source": [
    "# importing libraries as an alias so that we know which function belongs to which library\n",
    "import matplotlib.pyplot as plt\n",
    "import numpy as np\n",
    "from IPython.display import Image\n",
    "\n",
    "# to change default plotting style uncomment\n",
    "#plt.style.use('seaborn-whitegrid')\n",
    "\n",
    "# this command tells python to display the plots in the notebook by default\n",
    "%matplotlib inline"
   ]
  },
  {
   "cell_type": "markdown",
   "metadata": {},
   "source": [
    "# Ploting a simple canvas"
   ]
  },
  {
   "cell_type": "markdown",
   "metadata": {},
   "source": [
    "Let's first plot a simple canvas on which we will draw figures later-on"
   ]
  },
  {
   "cell_type": "code",
   "execution_count": null,
   "metadata": {},
   "outputs": [],
   "source": [
    "fig = plt.figure()\n",
    "ax = plt.axes()"
   ]
  },
  {
   "cell_type": "markdown",
   "metadata": {},
   "source": [
    "You can use `shift` + `tab` key to view the syntax of a function and other options it provides. Test it below."
   ]
  },
  {
   "cell_type": "code",
   "execution_count": null,
   "metadata": {},
   "outputs": [],
   "source": [
    "plt.figure();\n"
   ]
  },
  {
   "cell_type": "markdown",
   "metadata": {},
   "source": [
    "Now, let's plot a simple function, the classical `sine` curve example"
   ]
  },
  {
   "cell_type": "code",
   "execution_count": null,
   "metadata": {},
   "outputs": [],
   "source": [
    "# create an array of points\n",
    "x = np.linspace(0, 10, 1000) # use shift + tab to see the syntax\n",
    "y = np.sin(x) # our function\n",
    "\n",
    "# lets create our canvas as we did above\n",
    "fig = plt.figure()\n",
    "ax = plt.axes()\n",
    "ax.plot(x, y)"
   ]
  },
  {
   "cell_type": "markdown",
   "metadata": {},
   "source": [
    "This could also be plotted lazily in just one line..."
   ]
  },
  {
   "cell_type": "code",
   "execution_count": null,
   "metadata": {},
   "outputs": [],
   "source": [
    "plt.plot(x, np.sin(x))"
   ]
  },
  {
   "cell_type": "markdown",
   "metadata": {},
   "source": [
    "## Making nicer plots with seaborn"
   ]
  },
  {
   "cell_type": "code",
   "execution_count": null,
   "metadata": {},
   "outputs": [],
   "source": [
    "import seaborn as sns\n",
    "sns.set()"
   ]
  },
  {
   "cell_type": "markdown",
   "metadata": {},
   "source": [
    "**Same plot as above**"
   ]
  },
  {
   "cell_type": "code",
   "execution_count": null,
   "metadata": {},
   "outputs": [],
   "source": [
    "plt.plot(x, np.sin(x))"
   ]
  },
  {
   "cell_type": "markdown",
   "metadata": {},
   "source": [
    "## Ploting multiple lines"
   ]
  },
  {
   "cell_type": "code",
   "execution_count": null,
   "metadata": {},
   "outputs": [],
   "source": [
    "# lets do the lazy ploting of multiple lines\n",
    "plt.plot(x, np.sin(x))\n",
    "plt.plot(x, np.cos(x))"
   ]
  },
  {
   "cell_type": "markdown",
   "metadata": {},
   "source": [
    "Note that matplotlib automatically assigned different colours. Pretty smart, right? What if you don't like those colours? Let's see how we can customize it..."
   ]
  },
  {
   "cell_type": "markdown",
   "metadata": {},
   "source": [
    "## Adjusting colors"
   ]
  },
  {
   "cell_type": "code",
   "execution_count": null,
   "metadata": {},
   "outputs": [],
   "source": [
    "plt.plot(x, np.sin(x - 0), color='blue')        # specify color by name\n",
    "plt.plot(x, np.sin(x - 1), color='g')           # short color code (rgbcmyk)\n",
    "plt.plot(x, np.sin(x - 2), color='0.75')        # Grayscale between 0 and 1\n",
    "plt.plot(x, np.sin(x - 3), color='#FFDD44')     # Hex code (RRGGBB from 00 to FF)\n",
    "plt.plot(x, np.sin(x - 4), color=(1.0,0.2,0.3)) # RGB tuple, values 0 and 1\n",
    "plt.plot(x, np.sin(x - 5), color='chartreuse'); # all HTML color names supported"
   ]
  },
  {
   "cell_type": "markdown",
   "metadata": {},
   "source": [
    "**Task:** Find a website with a list of HTML color names"
   ]
  },
  {
   "cell_type": "markdown",
   "metadata": {},
   "source": [
    "## Different line styles"
   ]
  },
  {
   "cell_type": "code",
   "execution_count": null,
   "metadata": {},
   "outputs": [],
   "source": [
    "plt.plot(x, x + 4, linestyle='-')  # solid\n",
    "plt.plot(x, x + 5, linestyle='--') # dashed\n",
    "plt.plot(x, x + 6, linestyle='-.') # dashdot\n",
    "plt.plot(x, x + 7, linestyle=':');  # dotted"
   ]
  },
  {
   "cell_type": "markdown",
   "metadata": {},
   "source": [
    "**To do:** Contour plot? Not necessarily"
   ]
  },
  {
   "cell_type": "markdown",
   "metadata": {},
   "source": [
    "# Geographic ploting"
   ]
  },
  {
   "cell_type": "markdown",
   "metadata": {},
   "source": [
    "So far we have seen plots in the Cartesian coordinate system(x-y). Python also provides powerful libraries such as `Cartopy` and `Basemap` to enable geographic ploting. In this class, we will use `Cartopy` library."
   ]
  },
  {
   "cell_type": "markdown",
   "metadata": {},
   "source": [
    "Let's import the libary as an alias"
   ]
  },
  {
   "cell_type": "markdown",
   "metadata": {},
   "source": [
    "***Remark: It is considered bad practice to import libraries in the middle of a notebook. Here, we did it just show that which library is used for what purpose. Otherwise, always import the libraries at the begining.***"
   ]
  },
  {
   "cell_type": "code",
   "execution_count": null,
   "metadata": {},
   "outputs": [],
   "source": [
    "import cartopy.crs as ccrs\n",
    "import cartopy.feature as cfeature"
   ]
  },
  {
   "cell_type": "markdown",
   "metadata": {},
   "source": [
    "Let's plot a simple map"
   ]
  },
  {
   "cell_type": "code",
   "execution_count": null,
   "metadata": {},
   "outputs": [],
   "source": [
    "fig = plt.figure(figsize=[6,6])\n",
    "# What are the units of the figure size? Try to find out.\n",
    "#\n",
    "# Geographic maps can have different projection system. \n",
    "# Now, we will specify that we want the axes of our figure in PlateCarree projection.\n",
    "# We won't go into details of projection \n",
    "ax = plt.axes(projection=ccrs.PlateCarree())\n",
    "ax.set_extent([0, 90, -10, 70]) # setting the borders of our map"
   ]
  },
  {
   "cell_type": "markdown",
   "metadata": {},
   "source": [
    "Oops! That doesn't look like the map we imagined. So, lets add ocean and land to our geograhical map. We can do that by calling ax.add_feature() function."
   ]
  },
  {
   "cell_type": "code",
   "execution_count": null,
   "metadata": {},
   "outputs": [],
   "source": [
    "fig = plt.figure(figsize=[8,6])\n",
    "ax = plt.axes(projection=ccrs.PlateCarree())\n",
    "ax.set_extent([-180, 180, -90, 90]) # with this we can zoom in by specyfing a smaller region\n",
    "ax.add_feature(cfeature.LAND)\n",
    "ax.add_feature(cfeature.OCEAN)\n",
    "ax.add_feature(cfeature.COASTLINE)\n",
    "#ax.set_global()"
   ]
  },
  {
   "cell_type": "code",
   "execution_count": null,
   "metadata": {},
   "outputs": [],
   "source": [
    "fig = plt.figure(figsize=[10,8])\n",
    "ax = plt.axes(projection=ccrs.PlateCarree())\n",
    "ax.set_extent([-10, 60, 10, 60]) # with this we can zoom in by specyfing a smaller region\n",
    "ax.add_feature(cfeature.LAND)\n",
    "ax.add_feature(cfeature.OCEAN)\n",
    "ax.add_feature(cfeature.COASTLINE)\n",
    "#ax.set_global()"
   ]
  },
  {
   "cell_type": "markdown",
   "metadata": {},
   "source": [
    "Important Note:The size of the map can be only defined by its extent through the set_extent() method. Changing the figsize will only affect the white frame around the map axes."
   ]
  },
  {
   "cell_type": "markdown",
   "metadata": {},
   "source": [
    "## Adding more features"
   ]
  },
  {
   "cell_type": "markdown",
   "metadata": {},
   "source": [
    "We can also add features like country borders, rivers, lakes, etc."
   ]
  },
  {
   "cell_type": "code",
   "execution_count": null,
   "metadata": {},
   "outputs": [],
   "source": [
    "fig = plt.figure(figsize=[8,8])\n",
    "ax = plt.axes(projection=ccrs.PlateCarree())\n",
    "ax.set_extent([-10, 90, -0, 70]) \n",
    "ax.add_feature(cfeature.LAND)\n",
    "ax.add_feature(cfeature.OCEAN)\n",
    "ax.add_feature(cfeature.COASTLINE)\n",
    "ax.add_feature(cfeature.BORDERS, linestyle=':')\n",
    "ax.add_feature(cfeature.LAKES, alpha=0.5)\n",
    "ax.add_feature(cfeature.RIVERS)\n",
    "gridlines = ax.gridlines(draw_labels=True)\n",
    "## Note: Normal labeling doesn't work as Cartopy's labeling takeover the matplotlib commands\n",
    "#ax.set_xlabel('longitude')\n",
    "#ax.set_ylabel('latitude')\n",
    "\n",
    "ax.text(-0.07, 0.55, 'latitude', va='bottom', ha='center',\n",
    "        rotation='vertical', rotation_mode='anchor',\n",
    "        transform=ax.transAxes)\n",
    "ax.text(0.5, -0.1, 'longitude', va='bottom', ha='center',\n",
    "        rotation='horizontal', rotation_mode='anchor',\n",
    "        transform=ax.transAxes)\n"
   ]
  },
  {
   "cell_type": "markdown",
   "metadata": {},
   "source": [
    "# Model data ploting"
   ]
  },
  {
   "cell_type": "markdown",
   "metadata": {},
   "source": [
    "We're going to apply what we have learned so far to plot a `variable` generated by `climate model` on a geographic map. As before, we will look into 2 ways of ploting: \n",
    "* a quick, lazy way\n",
    "* a more detailed way "
   ]
  },
  {
   "cell_type": "markdown",
   "metadata": {},
   "source": [
    "## Loading file"
   ]
  },
  {
   "cell_type": "code",
   "execution_count": null,
   "metadata": {},
   "outputs": [],
   "source": [
    "# file to be plotted\n",
    "# TO BE ADAPTED\n",
    "file1 = '/scratch3/climriskdata/EUR-11/MPI-M-MPI-ESM-LR_MPI-CSC-REMO2009_v1/historical/tas/tas_EUR-11_MPI-M-MPI-ESM-LR_historical_r1i1p1_MPI-CSC-REMO2009_v1_day_19710101-19751231_LL.nc'\n"
   ]
  },
  {
   "cell_type": "markdown",
   "metadata": {},
   "source": [
    "As you know by now the climate model data is in `NetCDF` format which is a special way of storing multi-dimensional data. We will use a library called `xarray` which is specifically designed to make our life easier to handle multi-dimensional data."
   ]
  },
  {
   "cell_type": "markdown",
   "metadata": {},
   "source": [
    "Lets import the libary as an alias"
   ]
  },
  {
   "cell_type": "code",
   "execution_count": null,
   "metadata": {},
   "outputs": [],
   "source": [
    "import xarray as xr\n"
   ]
  },
  {
   "cell_type": "code",
   "execution_count": null,
   "metadata": {},
   "outputs": [],
   "source": [
    "Image(url='http://xarray.pydata.org/en/stable/_images/dataset-diagram.png')\n"
   ]
  },
  {
   "cell_type": "markdown",
   "metadata": {},
   "source": [
    "This is how a multi-dimensional dataset looks like."
   ]
  },
  {
   "cell_type": "code",
   "execution_count": null,
   "metadata": {},
   "outputs": [],
   "source": [
    "# lets load the data by using open_dataset function of xarray\n",
    "\n",
    "ds1 = xr.open_dataset(file1)"
   ]
  },
  {
   "cell_type": "markdown",
   "metadata": {},
   "source": [
    "Lets have a look at the summary of our dataset"
   ]
  },
  {
   "cell_type": "code",
   "execution_count": null,
   "metadata": {
    "scrolled": false
   },
   "outputs": [],
   "source": [
    "ds1 # as simple as this"
   ]
  },
  {
   "cell_type": "markdown",
   "metadata": {},
   "source": [
    "-----------------------------------------------------------------------------------------"
   ]
  },
  {
   "cell_type": "markdown",
   "metadata": {},
   "source": [
    "We see that this dataset has variables called `time_bnds` and `tas`"
   ]
  },
  {
   "cell_type": "code",
   "execution_count": null,
   "metadata": {
    "scrolled": true
   },
   "outputs": [],
   "source": [
    "# to view more details we can use this\n",
    "ds1.tas"
   ]
  },
  {
   "cell_type": "markdown",
   "metadata": {},
   "source": [
    "------------------------------------------------------------------------------------\n",
    "Here, you can see one of the reasons why `NetCDF` format is used. It presevers the metadata like standard name, units etc.\n",
    "What are the dimensions of the tas variable? "
   ]
  },
  {
   "cell_type": "markdown",
   "metadata": {},
   "source": [
    "## Quick plot"
   ]
  },
  {
   "cell_type": "markdown",
   "metadata": {},
   "source": [
    "Let's make a quick plot for our initial analysis of how our variable looks like. For this we first need to select only one time step."
   ]
  },
  {
   "cell_type": "markdown",
   "metadata": {},
   "source": [
    "### Selecting data"
   ]
  },
  {
   "cell_type": "code",
   "execution_count": null,
   "metadata": {},
   "outputs": [],
   "source": [
    "ds1.tas.isel(time=0) # we select the first point on time array using isel (integer-select)"
   ]
  },
  {
   "cell_type": "markdown",
   "metadata": {},
   "source": [
    "---------------------------------------------------------------------------------------\n",
    "Another easy way to select the data by specifying the date as a string using `sel` method"
   ]
  },
  {
   "cell_type": "code",
   "execution_count": null,
   "metadata": {},
   "outputs": [],
   "source": [
    "ds1.tas.sel(time='1971-01-01')"
   ]
  },
  {
   "cell_type": "code",
   "execution_count": null,
   "metadata": {},
   "outputs": [],
   "source": [
    "# assigning a variable name to our data for easy access\n",
    "data_to_plot = ds1.tas.isel(time=0)"
   ]
  },
  {
   "cell_type": "code",
   "execution_count": null,
   "metadata": {},
   "outputs": [],
   "source": [
    "# ploting it, just one line\n",
    "data_to_plot.plot()"
   ]
  },
  {
   "cell_type": "markdown",
   "metadata": {},
   "source": [
    "Here, **we see how xarray makes our life so much easier for quick analysis.** We didn't have to specify a map or axis. It does everything intelligently in the background for us. This saves a lot of time for analysis."
   ]
  },
  {
   "cell_type": "markdown",
   "metadata": {},
   "source": [
    "This is just one of the many powerful features which xarray offers.\n",
    "\n",
    "**You can also do everything above in just one line using Python's powerful Object-oriented language features** (remember previous lecture?)"
   ]
  },
  {
   "cell_type": "code",
   "execution_count": null,
   "metadata": {},
   "outputs": [],
   "source": [
    "# selecting and plotting the data in one line\n",
    "ds1.tas.isel(time=0).plot(); # add semicolon to suppress text output, depends on individual taste"
   ]
  },
  {
   "cell_type": "markdown",
   "metadata": {},
   "source": [
    "### Multiple plot"
   ]
  },
  {
   "cell_type": "code",
   "execution_count": null,
   "metadata": {},
   "outputs": [],
   "source": [
    "## first we select data to plot\n",
    "## we can select multiple time-steps using slice function\n",
    "temp = ds1.tas.sel(time=slice('1971-01-02', '1971-01-05'))\n",
    "temp # print preview of our data"
   ]
  },
  {
   "cell_type": "markdown",
   "metadata": {},
   "source": [
    "__Since, we have 4 time steps, we can plot it in a _2x2_ fashion__"
   ]
  },
  {
   "cell_type": "code",
   "execution_count": null,
   "metadata": {},
   "outputs": [],
   "source": [
    "temp.plot(col='time',col_wrap=2);"
   ]
  },
  {
   "cell_type": "markdown",
   "metadata": {},
   "source": [
    "## Detailed plot "
   ]
  },
  {
   "cell_type": "markdown",
   "metadata": {},
   "source": [
    "Most of the time we need more control to make plots for publication quality. So, now we're going to have a look as to how we can control more aspects of our plot rather than letting `xarray` do it for us. We will try to stick with `xarray's` easy plotting method as much as possible that means, letting it choose most of the things for us. But, we will add more details wherever required to make the plot fit to our needs."
   ]
  },
  {
   "cell_type": "code",
   "execution_count": null,
   "metadata": {},
   "outputs": [],
   "source": [
    "fig = plt.figure(figsize=(8,6))\n",
    "ax = plt.axes(projection=ccrs.PlateCarree())\n",
    "\n",
    "ax.add_feature(cfeature.COASTLINE, linestyle='-')\n",
    "ax.add_feature(cfeature.BORDERS, linestyle=':')\n",
    "\n",
    "# now we're going to tell xarray that we want contourf plot specifically!\n",
    "\n",
    "data_to_plot.plot.contourf(ax=ax, transform=ccrs.PlateCarree())\n",
    "# transform means we're telling the projection of our data, not important at this stage\n",
    "\n",
    "# setting the title\n",
    "\n",
    "ax.set_title('Average Surface Temperature on 02-01-1950');\n"
   ]
  },
  {
   "cell_type": "markdown",
   "metadata": {},
   "source": [
    "## Colorbar"
   ]
  },
  {
   "cell_type": "markdown",
   "metadata": {},
   "source": [
    "Broadly, you should be aware of three different categories of colormaps:\n",
    "\n",
    "* Sequential colormaps:\n",
    "\n",
    "    These consist of one continuous sequence of colors (e.g., binary or viridis).\n",
    "    \n",
    "    \n",
    "* Divergent colormaps:\n",
    "\n",
    "    These usually contain two distinct colors, which show positive and negative deviations from a mean (e.g., RdBu or PuOr).\n",
    "    \n",
    "    \n",
    "* Qualitative colormaps:\n",
    "\n",
    "    These mix colors with no particular sequence (e.g., rainbow or jet).\n"
   ]
  },
  {
   "cell_type": "code",
   "execution_count": null,
   "metadata": {},
   "outputs": [],
   "source": [
    "## Don't touch this part ##\n",
    "## This is just to show different colorbars available\n",
    "## you can directly skip to output\n",
    "from matplotlib.colors import LinearSegmentedColormap\n",
    "\n",
    "def grayscale_cmap(cmap):\n",
    "    \"\"\"Return a grayscale version of the given colormap\"\"\"\n",
    "    cmap = plt.cm.get_cmap(cmap)\n",
    "    colors = cmap(np.arange(cmap.N))\n",
    "\n",
    "    # convert RGBA to perceived grayscale luminance\n",
    "    # cf. http://alienryderflex.com/hsp.html\n",
    "    RGB_weight = [0.299, 0.587, 0.114]\n",
    "    luminance = np.sqrt(np.dot(colors[:, :3] ** 2, RGB_weight))\n",
    "    colors[:, :3] = luminance[:, np.newaxis]\n",
    "\n",
    "    return LinearSegmentedColormap.from_list(cmap.name + \"_gray\", colors, cmap.N)\n",
    "\n",
    "\n",
    "def view_colormap(cmap):\n",
    "    \"\"\"Plot a colormap with its grayscale equivalent\"\"\"\n",
    "    cmap = plt.cm.get_cmap(cmap)\n",
    "    colors = cmap(np.arange(cmap.N))\n",
    "\n",
    "    cmap = grayscale_cmap(cmap)\n",
    "    grayscale = cmap(np.arange(cmap.N))\n",
    "\n",
    "    fig, ax = plt.subplots(2, figsize=(6, 2),\n",
    "                           subplot_kw=dict(xticks=[], yticks=[]))\n",
    "    ax[0].imshow([colors], extent=[0, 10, 0, 1])\n",
    "    ax[1].imshow([grayscale], extent=[0, 10, 0, 1])"
   ]
  },
  {
   "cell_type": "markdown",
   "metadata": {},
   "source": [
    "### Some example color bars "
   ]
  },
  {
   "cell_type": "code",
   "execution_count": null,
   "metadata": {
    "scrolled": true
   },
   "outputs": [],
   "source": [
    "view_colormap('jet')\n",
    "plt.title('The jet colormap and its uneven luminance scale');"
   ]
  },
  {
   "cell_type": "markdown",
   "metadata": {},
   "source": [
    "**Note:** Because of the uneven luminance scale, the eye will be drawn more to the certain *unimportant* part of the data. The default colorscale `viridis` used above on the other hand has an even brightness range and is good for human-eye perception as shown below."
   ]
  },
  {
   "cell_type": "code",
   "execution_count": null,
   "metadata": {
    "scrolled": true
   },
   "outputs": [],
   "source": [
    "view_colormap('viridis')"
   ]
  },
  {
   "cell_type": "markdown",
   "metadata": {},
   "source": [
    "For showing positive and negative deviations in data, a divergent color-scale like `RdBu` short for Red-Blue is very helpful"
   ]
  },
  {
   "cell_type": "code",
   "execution_count": null,
   "metadata": {},
   "outputs": [],
   "source": [
    "view_colormap('RdBu')"
   ]
  },
  {
   "cell_type": "code",
   "execution_count": null,
   "metadata": {},
   "outputs": [],
   "source": [
    "# to reverse a colorbar just add _r at the end\n",
    "view_colormap('RdBu_r')"
   ]
  },
  {
   "cell_type": "markdown",
   "metadata": {
    "solution2": "hidden",
    "solution2_first": true
   },
   "source": [
    "**Task:** Find the webpage for colour bars supported in Python. \n",
    "\n",
    "*Hint: Search in matplotlib library*"
   ]
  },
  {
   "cell_type": "markdown",
   "metadata": {
    "solution2": "hidden"
   },
   "source": [
    "[More colour-bars](https://matplotlib.org/users/colormaps.html)"
   ]
  },
  {
   "cell_type": "markdown",
   "metadata": {},
   "source": [
    "**Trying another colorbar**"
   ]
  },
  {
   "cell_type": "code",
   "execution_count": null,
   "metadata": {},
   "outputs": [],
   "source": [
    "fig = plt.figure(figsize=(8,6))\n",
    "ax = plt.axes(projection=ccrs.PlateCarree())\n",
    "\n",
    "ax.add_feature(cfeature.COASTLINE, linestyle='-')\n",
    "ax.add_feature(cfeature.BORDERS, linestyle=':')\n",
    "\n",
    "data_to_plot.plot.contourf(ax=ax, transform=ccrs.PlateCarree(), cmap='jet') #changed the color bar\n",
    "\n",
    "ax.set_title('Average Surface Temperature on 02-01-1971', fontsize=16);\n",
    "\n"
   ]
  },
  {
   "cell_type": "markdown",
   "metadata": {},
   "source": [
    "## Levels"
   ]
  },
  {
   "cell_type": "markdown",
   "metadata": {},
   "source": [
    "Lets say we want to see minute temperature variations and thus, we would like to divide our color bar into smaller segments. For that one could just use `levels` arguments. Of course, one can also make there own custom segments and specify it as a list."
   ]
  },
  {
   "cell_type": "code",
   "execution_count": null,
   "metadata": {},
   "outputs": [],
   "source": [
    "fig = plt.figure(figsize=(8,6))\n",
    "ax = plt.axes(projection=ccrs.PlateCarree())\n",
    "\n",
    "# setting geographical boundaries of our map using the data provided\n",
    "ax.set_extent([-10,37, 30, 69.5])\n",
    "## Note: so far xarray was setting geographical boundaries on its own but we can also specify the boundaries manually\n",
    "\n",
    "ax.add_feature(cfeature.COASTLINE, linestyle='-')\n",
    "ax.add_feature(cfeature.BORDERS, linestyle=':')\n",
    "\n",
    "data_to_plot.plot.contourf(ax=ax, transform=ccrs.PlateCarree(), cmap='jet', levels=10) # added levels argument\n",
    "\n",
    "# Adding ocean so that we only emphasize on Land\n",
    "ax.add_feature(cfeature.OCEAN, zorder=10) \n",
    "\n",
    "ax.set_title('Average Surface Temperature on 02-01-1971', fontsize=16);\n",
    "\n"
   ]
  },
  {
   "cell_type": "markdown",
   "metadata": {},
   "source": [
    "### making custom levels"
   ]
  },
  {
   "cell_type": "markdown",
   "metadata": {},
   "source": [
    "As mentioned above, we can also define custom levels for our color-bar"
   ]
  },
  {
   "cell_type": "markdown",
   "metadata": {},
   "source": [
    "Let's define a scale to catch the viewers attention to only high-temperature regions"
   ]
  },
  {
   "cell_type": "markdown",
   "metadata": {},
   "source": [
    "Another point: The yellow part looks too bright, so let's try another colour scale."
   ]
  },
  {
   "cell_type": "code",
   "execution_count": null,
   "metadata": {},
   "outputs": [],
   "source": [
    "# Irregular levels to illustrate the use of a proportional colorbar spacing\n",
    "levels1 = [230, 250, 260, 270, 275, 280, 284, 288, 290, 292, 294]"
   ]
  },
  {
   "cell_type": "code",
   "execution_count": null,
   "metadata": {},
   "outputs": [],
   "source": [
    "fig = plt.figure(figsize=(8,6))\n",
    "ax = plt.axes(projection=ccrs.PlateCarree())\n",
    "\n",
    "ax.add_feature(cfeature.COASTLINE, linestyle=':')\n",
    "ax.add_feature(cfeature.BORDERS, linestyle=':')\n",
    "gl = ax.gridlines(crs=ccrs.PlateCarree(), draw_labels=True,\n",
    "                  linewidth=2, color='gray', alpha=0.4, linestyle='--')\n",
    "gl.xlabels_top = False # suppress gridline labels on the top\n",
    "gl.ylabels_right = False # suppress gridline labels at the right edge\n",
    "data_to_plot.plot.contourf(ax=ax, transform=ccrs.PlateCarree(), cmap='YlOrRd', levels=levels1, cbar_kwargs={'ticks':levels1,'spacing': 'proportional'})\n",
    "## add fraction in cbar_kargs\n",
    "ax.add_feature(cfeature.OCEAN, zorder=10)\n"
   ]
  },
  {
   "cell_type": "markdown",
   "metadata": {},
   "source": [
    "## Adding Population data"
   ]
  },
  {
   "cell_type": "markdown",
   "metadata": {},
   "source": [
    "Let's add Population data to the above figure so that we can see the high-risk areas"
   ]
  },
  {
   "cell_type": "code",
   "execution_count": null,
   "metadata": {
    "scrolled": true
   },
   "outputs": [],
   "source": [
    "file2_ = '/scratch3/climriskdata/EUR-11/Estimated_population/Estimated_population_2018_LL.nc'\n",
    "ds2= xr.open_dataset(file2_)\n",
    "ds2"
   ]
  },
  {
   "cell_type": "markdown",
   "metadata": {},
   "source": [
    "---------------------------------------------------------------------------------------------------------\n",
    "__We're going to first plot only population and then we will combine it with the temperature plot above.__\n",
    "\n",
    "Here, I want to show you another important technique of plotting. So far, we were using the high-level features of `xarray` which would intelligently choose most of the options for us to make the plot. That means, we don't have to individually supply latitude, longitude values to our plotting function. `xarray` does it for us and saves some extra coding lines.\n",
    "\n",
    "It does a pretty good job but a lot of times we need more control over the figure. So, we should also know how to plot using the lower library `cartopy`.\n",
    "\n",
    "Recall that we loaded `cartopy`library before as `crs`.  Now, we're going to switch back to it to make the population plot. Actually, when we were plotting using `xarray` library, it was also using the `cartopy` library under the hood to make the plot.\n",
    "\n"
   ]
  },
  {
   "cell_type": "code",
   "execution_count": null,
   "metadata": {},
   "outputs": [],
   "source": [
    "projection=ccrs.PlateCarree()\n",
    "fig, ax = plt.subplots(figsize=(12,8), subplot_kw=dict(projection=ccrs.PlateCarree()))\n",
    "# till here its the same as before\n",
    "\n",
    "# now we will extract our data in the form (x,y,z) as now we don't have xarray to do it automatically for us\n",
    "## extracting the data can be done by ds.variable_name.values\n",
    "\n",
    "lons, lats = ds2.lon.values, ds2.lat.values # multiple assignment in one line, looks neater\n",
    "pops = ds2.population.values # population data\n",
    "\n",
    "# the general plotting syntax for 3-D function is ax.type_of_plot(x,y,z)\n",
    "## don't forget shift+tab to see detailed help\n",
    "contours = ax.contour(lons, lats, pops, levels=[1e5,0.5e6,1e6,2e6, 3e6, 5e6], cmap='Reds_r')\n",
    "# Note: 1e5 is the way of writing \"10 to the power 5 in python\"\n",
    "\n",
    "ax.add_feature(cfeature.COASTLINE, linestyle='-', zorder=12)\n",
    "ax.add_feature(cfeature.OCEAN, zorder=10)\n",
    "\n",
    "ax.set_extent([-10,20, 30, 50]) # setting the extent of our map like before\n",
    "\n",
    "# now we have to manually add the color-bar\n",
    "fig.colorbar(contours, shrink=0.8);"
   ]
  },
  {
   "cell_type": "markdown",
   "metadata": {},
   "source": [
    "Note that the big cities have darker contours showing high population areas"
   ]
  },
  {
   "cell_type": "markdown",
   "metadata": {},
   "source": [
    "Let's add it to the plot of temperature above. I don't want coloured contours now because it will mix up with the colour of the temperature. So, I'll only choose high population areas to be drawn as contours and use black colour to indicate that. We have to make sure that we don't inundate our plot with too much information."
   ]
  },
  {
   "cell_type": "code",
   "execution_count": null,
   "metadata": {},
   "outputs": [],
   "source": [
    "fig = plt.figure(figsize=(14,8))\n",
    "ax = plt.axes(projection=ccrs.PlateCarree())\n",
    "\n",
    "ax.add_feature(cfeature.COASTLINE, linestyle=':')\n",
    "ax.add_feature(cfeature.BORDERS, linestyle=':')\n",
    "\n",
    "contours = ax.contour(lons, lats, pops, levels=list(np.linspace(1e6, 15e6, 10)), colors='black', alpha=0.8)\n",
    "\n",
    "\n",
    "gl = ax.gridlines(crs=ccrs.PlateCarree(), draw_labels=True,\n",
    "                  linewidth=2, color='gray', alpha=0.4, linestyle='--')\n",
    "gl.xlabels_top = False # suppress gridline labels on the top\n",
    "gl.ylabels_right = False # suppress gridline labels at the right edge\n",
    "\n",
    "data_to_plot.plot.contourf(ax=ax, transform=ccrs.PlateCarree(), cmap='YlOrRd', levels=levels1, cbar_kwargs={'ticks':levels1,'spacing': 'proportional'})\n",
    "\n",
    "ax.add_feature(cfeature.OCEAN, zorder=10)\n",
    "\n",
    "# zooming into Europe with sax.set_extent\n",
    "ax.set_extent([-10,36, 30, 60])\n",
    "ax.set_title('Map showing high-risk areas for extreme weather', fontsize=14);"
   ]
  },
  {
   "cell_type": "markdown",
   "metadata": {},
   "source": [
    "**Take home message:** \n",
    "* For non geographical plotting we use `matplotlib` library which is very powerful and vast in itself.\n",
    "* For geographic plotting we use `cartopy` to make geographical axis.\n",
    "* For quick geographical plotting, use high-level plotting features of `xarray` \n",
    "* For absolute control of your geographical plots use `cartopy` directly."
   ]
  },
  {
   "cell_type": "markdown",
   "metadata": {},
   "source": [
    "# Teaser "
   ]
  },
  {
   "cell_type": "markdown",
   "metadata": {},
   "source": [
    "__`xarray` is not just a plotting library. It has many more powerful features for analysis.__"
   ]
  },
  {
   "cell_type": "markdown",
   "metadata": {},
   "source": [
    "This section contains examples of few powerful calculations which xarray let's you do in a very few line of code. The purpose is to serve as a motivation for why we're learning this library."
   ]
  },
  {
   "cell_type": "markdown",
   "metadata": {},
   "source": [
    "__Note: Don't worry if you don't understand syntax from here on__ as it uses some techniques which we haven't discussed yet."
   ]
  },
  {
   "cell_type": "markdown",
   "metadata": {},
   "source": [
    "## Temperature time-series for Berlin"
   ]
  },
  {
   "cell_type": "code",
   "execution_count": null,
   "metadata": {
    "scrolled": true
   },
   "outputs": [],
   "source": [
    "# quick time series plot for Berlin\n",
    "(ds1.tas.sel(lat=52.5, lon=13.4, method='nearest') - 273.15).plot();"
   ]
  },
  {
   "cell_type": "markdown",
   "metadata": {},
   "source": [
    "__Xarray's `sel` method is very powerful for selecting data quickly.__"
   ]
  },
  {
   "cell_type": "markdown",
   "metadata": {},
   "source": [
    "## Seasonal temperature"
   ]
  },
  {
   "cell_type": "markdown",
   "metadata": {},
   "source": [
    "**Next:** How is the mean temperature for a specific season?"
   ]
  },
  {
   "cell_type": "code",
   "execution_count": null,
   "metadata": {},
   "outputs": [],
   "source": [
    "(ds1.groupby('time.season').mean(dim='time').tas.sel(season='DJF') - 273.15).plot()"
   ]
  },
  {
   "cell_type": "markdown",
   "metadata": {},
   "source": [
    "**Explanation:** Time is an intelligent object in xarray. In step 1, we use that feature and group my data according to predefined seasons ('DJF','MAM', 'JJA', 'SON') and then tell it to take mean of the grouped data. With that we get seasonal mean data.\n"
   ]
  },
  {
   "cell_type": "code",
   "execution_count": null,
   "metadata": {},
   "outputs": [],
   "source": [
    "ds_gb = ds1.groupby('time.season').mean(dim='time')"
   ]
  },
  {
   "cell_type": "markdown",
   "metadata": {},
   "source": [
    "Step2: We tell xarray to select the data of winter seaon, that is, 'DJF' and plot it. Subtracting 273.15 to convert units into Celsius."
   ]
  },
  {
   "cell_type": "code",
   "execution_count": null,
   "metadata": {},
   "outputs": [],
   "source": [
    "(ds_gb.tas.sel(season='DJF') -273.15).plot()"
   ]
  },
  {
   "cell_type": "markdown",
   "metadata": {},
   "source": [
    "Using this technique we can also make a quick plot of all the seasons.\n"
   ]
  },
  {
   "cell_type": "code",
   "execution_count": null,
   "metadata": {},
   "outputs": [],
   "source": [
    "projection=ccrs.PlateCarree()\n",
    "fig, axes = plt.subplots(nrows=2, ncols=2, figsize=(14,12), subplot_kw=dict(projection=ccrs.PlateCarree()))\n",
    "# axs = axes.flat\n",
    "for ax, season in zip(axes.flat, ('DJF','MAM', 'JJA', 'SON')):\n",
    "    p = (ds_gb.tas.sel(season=season) -273.15).plot.pcolormesh(ax=ax, cmap='coolwarm', vmin=-20, vmax=30,\n",
    "                                                           add_colorbar=False)\n",
    "# note: vmin, vmax is added so that colorbar is consistent for all subplots\n",
    "    ax.coastlines()\n",
    "    ax.set_extent([-10,36, 30, 69])\n",
    "fig.colorbar(p, ax=axes.flat, fraction=0.15, extend='both');\n"
   ]
  },
  {
   "cell_type": "markdown",
   "metadata": {},
   "source": [
    "# References & Further Reading\n",
    "[xarray](http://xarray.pydata.org/)\n",
    "\n",
    "[Python Data Science Handbook - Visualization](https://www.oreilly.com/library/view/python-data-science/9781491912126/ch04.html)"
   ]
  }
 ],
 "metadata": {
  "kernelspec": {
   "display_name": "Python 3",
   "language": "python",
   "name": "python3"
  },
  "language_info": {
   "codemirror_mode": {
    "name": "ipython",
    "version": 3
   },
   "file_extension": ".py",
   "mimetype": "text/x-python",
   "name": "python",
   "nbconvert_exporter": "python",
   "pygments_lexer": "ipython3",
   "version": "3.6.7"
  },
  "toc": {
   "base_numbering": 1,
   "nav_menu": {},
   "number_sections": true,
   "sideBar": true,
   "skip_h1_title": false,
   "title_cell": "Table of Contents",
   "title_sidebar": "Contents",
   "toc_cell": true,
   "toc_position": {
    "height": "calc(100% - 180px)",
    "left": "10px",
    "top": "150px",
    "width": "343.4px"
   },
   "toc_section_display": true,
   "toc_window_display": true
  }
 },
 "nbformat": 4,
 "nbformat_minor": 2
}
