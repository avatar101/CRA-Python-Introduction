{
 "cells": [
  {
   "cell_type": "markdown",
   "metadata": {},
   "source": [
    "*Notebook created by Mubashshir Ali for the purpose of Climate Risk Assessment lecture*"
   ]
  },
  {
   "cell_type": "markdown",
   "metadata": {
    "toc": true
   },
   "source": [
    "<h1>Table of Contents<span class=\"tocSkip\"></span></h1>\n",
    "<div class=\"toc\"><ul class=\"toc-item\"><li><span><a href=\"#What-is-Python?\" data-toc-modified-id=\"What-is-Python?-1\"><span class=\"toc-item-num\">1&nbsp;&nbsp;</span>What is Python?</a></span></li><li><span><a href=\"#Why-Python?\" data-toc-modified-id=\"Why-Python?-2\"><span class=\"toc-item-num\">2&nbsp;&nbsp;</span>Why Python?</a></span><ul class=\"toc-item\"><li><span><a href=\"#Python-in-Science\" data-toc-modified-id=\"Python-in-Science-2.1\"><span class=\"toc-item-num\">2.1&nbsp;&nbsp;</span>Python in Science</a></span></li></ul></li><li><span><a href=\"#Using-Jupyter-Notebook\" data-toc-modified-id=\"Using-Jupyter-Notebook-3\"><span class=\"toc-item-num\">3&nbsp;&nbsp;</span>Using Jupyter Notebook</a></span><ul class=\"toc-item\"><li><span><a href=\"#Use-as-Shell-Terminal\" data-toc-modified-id=\"Use-as-Shell-Terminal-3.1\"><span class=\"toc-item-num\">3.1&nbsp;&nbsp;</span>Use as Shell Terminal</a></span></li></ul></li><li><span><a href=\"#Variables\" data-toc-modified-id=\"Variables-4\"><span class=\"toc-item-num\">4&nbsp;&nbsp;</span>Variables</a></span><ul class=\"toc-item\"><li><span><a href=\"#Assigning-values-to-the-variable\" data-toc-modified-id=\"Assigning-values-to-the-variable-4.1\"><span class=\"toc-item-num\">4.1&nbsp;&nbsp;</span>Assigning values to the variable</a></span><ul class=\"toc-item\"><li><span><a href=\"#Multiple-assignments\" data-toc-modified-id=\"Multiple-assignments-4.1.1\"><span class=\"toc-item-num\">4.1.1&nbsp;&nbsp;</span>Multiple assignments</a></span></li></ul></li></ul></li><li><span><a href=\"#Standard-Data-Types\" data-toc-modified-id=\"Standard-Data-Types-5\"><span class=\"toc-item-num\">5&nbsp;&nbsp;</span>Standard Data Types</a></span><ul class=\"toc-item\"><li><span><a href=\"#Numbers\" data-toc-modified-id=\"Numbers-5.1\"><span class=\"toc-item-num\">5.1&nbsp;&nbsp;</span>Numbers</a></span></li><li><span><a href=\"#Strings\" data-toc-modified-id=\"Strings-5.2\"><span class=\"toc-item-num\">5.2&nbsp;&nbsp;</span>Strings</a></span><ul class=\"toc-item\"><li><span><a href=\"#Indexing-and-slicing\" data-toc-modified-id=\"Indexing-and-slicing-5.2.1\"><span class=\"toc-item-num\">5.2.1&nbsp;&nbsp;</span>Indexing and slicing</a></span></li></ul></li><li><span><a href=\"#Lists\" data-toc-modified-id=\"Lists-5.3\"><span class=\"toc-item-num\">5.3&nbsp;&nbsp;</span>Lists</a></span><ul class=\"toc-item\"><li><span><a href=\"#Indexing-and-Slicing\" data-toc-modified-id=\"Indexing-and-Slicing-5.3.1\"><span class=\"toc-item-num\">5.3.1&nbsp;&nbsp;</span>Indexing and Slicing</a></span></li><li><span><a href=\"#Adding-Strings\" data-toc-modified-id=\"Adding-Strings-5.3.2\"><span class=\"toc-item-num\">5.3.2&nbsp;&nbsp;</span>Adding Strings</a></span></li><li><span><a href=\"#Testing\" data-toc-modified-id=\"Testing-5.3.3\"><span class=\"toc-item-num\">5.3.3&nbsp;&nbsp;</span>Testing</a></span></li></ul></li><li><span><a href=\"#Tuples\" data-toc-modified-id=\"Tuples-5.4\"><span class=\"toc-item-num\">5.4&nbsp;&nbsp;</span>Tuples</a></span></li><li><span><a href=\"#Python-Dictionaries\" data-toc-modified-id=\"Python-Dictionaries-5.5\"><span class=\"toc-item-num\">5.5&nbsp;&nbsp;</span>Python Dictionaries</a></span><ul class=\"toc-item\"><li><span><a href=\"#Accessing-keys-and-values\" data-toc-modified-id=\"Accessing-keys-and-values-5.5.1\"><span class=\"toc-item-num\">5.5.1&nbsp;&nbsp;</span>Accessing keys and values</a></span></li></ul></li></ul></li><li><span><a href=\"#Introduction-to-Numpy\" data-toc-modified-id=\"Introduction-to-Numpy-6\"><span class=\"toc-item-num\">6&nbsp;&nbsp;</span>Introduction to Numpy</a></span><ul class=\"toc-item\"><li><span><a href=\"#Why-numpy-is-needed?\" data-toc-modified-id=\"Why-numpy-is-needed?-6.1\"><span class=\"toc-item-num\">6.1&nbsp;&nbsp;</span>Why numpy is needed?</a></span></li><li><span><a href=\"#Creating-Numpy-arrays-from-Python-lists\" data-toc-modified-id=\"Creating-Numpy-arrays-from-Python-lists-6.2\"><span class=\"toc-item-num\">6.2&nbsp;&nbsp;</span>Creating Numpy arrays from Python lists</a></span><ul class=\"toc-item\"><li><span><a href=\"#Method-1\" data-toc-modified-id=\"Method-1-6.2.1\"><span class=\"toc-item-num\">6.2.1&nbsp;&nbsp;</span>Method 1</a></span></li><li><span><a href=\"#Method-2\" data-toc-modified-id=\"Method-2-6.2.2\"><span class=\"toc-item-num\">6.2.2&nbsp;&nbsp;</span>Method 2</a></span></li><li><span><a href=\"#Method-3\" data-toc-modified-id=\"Method-3-6.2.3\"><span class=\"toc-item-num\">6.2.3&nbsp;&nbsp;</span>Method 3</a></span></li></ul></li><li><span><a href=\"#Multidimensional-arrays\" data-toc-modified-id=\"Multidimensional-arrays-6.3\"><span class=\"toc-item-num\">6.3&nbsp;&nbsp;</span>Multidimensional arrays</a></span></li></ul></li><li><span><a href=\"#Zen-of-Python-:)\" data-toc-modified-id=\"Zen-of-Python-:)-7\"><span class=\"toc-item-num\">7&nbsp;&nbsp;</span>Zen of Python :)</a></span></li><li><span><a href=\"#Supplementary-info\" data-toc-modified-id=\"Supplementary-info-8\"><span class=\"toc-item-num\">8&nbsp;&nbsp;</span>Supplementary info</a></span><ul class=\"toc-item\"><li><span><a href=\"#How-to-install-Jupyter-notebooks-on-your-PC\" data-toc-modified-id=\"How-to-install-Jupyter-notebooks-on-your-PC-8.1\"><span class=\"toc-item-num\">8.1&nbsp;&nbsp;</span>How to install Jupyter notebooks on your PC</a></span></li></ul></li></ul></div>"
   ]
  },
  {
   "cell_type": "code",
   "execution_count": null,
   "metadata": {},
   "outputs": [],
   "source": [
    "from IPython.display import Image\n",
    "import IPython.display\n",
    "from IPython.core.display import HTML "
   ]
  },
  {
   "cell_type": "markdown",
   "metadata": {},
   "source": [
    "# What is Python?"
   ]
  },
  {
   "cell_type": "code",
   "execution_count": null,
   "metadata": {
    "scrolled": false
   },
   "outputs": [],
   "source": [
    "IPython.display.IFrame(\"https://en.wikipedia.org/wiki/Python_(programming_language)\", width=1000, height=780)"
   ]
  },
  {
   "cell_type": "markdown",
   "metadata": {},
   "source": [
    "# Why Python?"
   ]
  },
  {
   "cell_type": "code",
   "execution_count": null,
   "metadata": {},
   "outputs": [],
   "source": [
    "Image(url= \"https://cdn-images-1.medium.com/max/1600/1*JMP0SgtuTAO1A2Mj04qtfw.png\")"
   ]
  },
  {
   "cell_type": "markdown",
   "metadata": {},
   "source": [
    "Source: Stack Overflow"
   ]
  },
  {
   "cell_type": "code",
   "execution_count": null,
   "metadata": {},
   "outputs": [],
   "source": [
    "Image(url= \"https://cdn-images-1.medium.com/max/800/1*hr4AQ8riFqCrUzncv0SaRA.png\")"
   ]
  },
  {
   "cell_type": "markdown",
   "metadata": {},
   "source": [
    "Souce: “Ranking Programming Languages by GitHub Users” — Ben Frederickson"
   ]
  },
  {
   "cell_type": "markdown",
   "metadata": {},
   "source": [
    "*  Python was designed for readability, and has some similarities to the English language with influence from mathematics.\n",
    "\n",
    "\n",
    "* Python uses new lines to complete a command, as opposed to other programming languages which often use semicolons or parentheses.\n",
    "\n",
    "\n",
    "* Python relies on indentation, using whitespace, to define scope; such as the scope of loops, functions and classes. Other programming languages often use curly-brackets for this purpose.\n",
    "\n",
    "\n",
    "* Python is a like a glue bringing lot of interdisciplinary work together"
   ]
  },
  {
   "cell_type": "markdown",
   "metadata": {},
   "source": [
    "## Python in Science"
   ]
  },
  {
   "cell_type": "markdown",
   "metadata": {},
   "source": [
    "**Unexpected effectiveness of Python in science** - Jake VanderPlas"
   ]
  },
  {
   "cell_type": "code",
   "execution_count": null,
   "metadata": {
    "scrolled": false
   },
   "outputs": [],
   "source": [
    "Image(url=\"https://image.slidesharecdn.com/pythonfordatascience-151126012608-lva1-app6892/95/why-python-is-better-for-data-science-25-638.jpg?cb=1448502501\")"
   ]
  },
  {
   "cell_type": "markdown",
   "metadata": {},
   "source": [
    "Two versions of python exist Python2 and Python3. We work with Python3. Here you will find more details: https://wiki.python.org/moin/Python2orPython3"
   ]
  },
  {
   "cell_type": "markdown",
   "metadata": {},
   "source": [
    "# Using Jupyter Notebook"
   ]
  },
  {
   "cell_type": "markdown",
   "metadata": {},
   "source": [
    "Add a cell below this one and type print(\"Hello\") and run the cell"
   ]
  },
  {
   "cell_type": "code",
   "execution_count": null,
   "metadata": {},
   "outputs": [],
   "source": [
    "print(\"Hello World!\")"
   ]
  },
  {
   "cell_type": "code",
   "execution_count": null,
   "metadata": {},
   "outputs": [],
   "source": [
    "## can also be used as a simple calculator\n",
    "60*24"
   ]
  },
  {
   "cell_type": "markdown",
   "metadata": {},
   "source": [
    "## Use as Shell Terminal"
   ]
  },
  {
   "cell_type": "markdown",
   "metadata": {},
   "source": [
    "Jupyter notebooks also provide in-built capabilites to display shell commands. Use ! (exclamation mark) in front of a shell command"
   ]
  },
  {
   "cell_type": "code",
   "execution_count": null,
   "metadata": {},
   "outputs": [],
   "source": [
    "## Example\n",
    "!pwd"
   ]
  },
  {
   "cell_type": "markdown",
   "metadata": {},
   "source": [
    "# Variables"
   ]
  },
  {
   "cell_type": "markdown",
   "metadata": {},
   "source": [
    "Python variables can start with a to z or underscore. Variables are *case sensitve*. There are some resevered words that are used as Python keywords (see list included below). You can't use these words for declaring variables. "
   ]
  },
  {
   "cell_type": "code",
   "execution_count": null,
   "metadata": {
    "scrolled": false
   },
   "outputs": [],
   "source": [
    "## Python Keywords\n",
    "Image(url=\"https://i.imgur.com/ROm3pQd.png\")"
   ]
  },
  {
   "cell_type": "markdown",
   "metadata": {},
   "source": [
    "## Assigning values to the variable"
   ]
  },
  {
   "cell_type": "code",
   "execution_count": null,
   "metadata": {},
   "outputs": [],
   "source": [
    "a = 10         # integer\n",
    "b = 100.0      # float\n",
    "c = 'Climate'  # a string\n",
    "\n",
    "print(a)"
   ]
  },
  {
   "cell_type": "markdown",
   "metadata": {},
   "source": [
    "With the variables you can do simple arithmetics"
   ]
  },
  {
   "cell_type": "code",
   "execution_count": null,
   "metadata": {},
   "outputs": [],
   "source": [
    "print(a+b)"
   ]
  },
  {
   "cell_type": "raw",
   "metadata": {},
   "source": [
    "Tip: In a jupyter notebook environment you can just type the variable name to print it without using print command."
   ]
  },
  {
   "cell_type": "code",
   "execution_count": null,
   "metadata": {},
   "outputs": [],
   "source": [
    "c"
   ]
  },
  {
   "cell_type": "markdown",
   "metadata": {},
   "source": [
    "Anything included inside ' ' or \" \" or \"\"\" \"\"\" is treated as a string."
   ]
  },
  {
   "cell_type": "markdown",
   "metadata": {},
   "source": [
    "### Multiple assignments"
   ]
  },
  {
   "cell_type": "code",
   "execution_count": null,
   "metadata": {},
   "outputs": [],
   "source": [
    "## Multiple assignments\n",
    "a = b = c = 20\n",
    "b"
   ]
  },
  {
   "cell_type": "code",
   "execution_count": null,
   "metadata": {},
   "outputs": [],
   "source": [
    "### This works too\n",
    "a, b, d = 10, 20, 'Climate'\n",
    "d"
   ]
  },
  {
   "cell_type": "markdown",
   "metadata": {
    "solution": "hidden",
    "solution2": "hidden",
    "solution2_first": true,
    "solution_first": true
   },
   "source": [
    "**Task:** Calculate the sum of a,b,c and print the result"
   ]
  },
  {
   "cell_type": "code",
   "execution_count": null,
   "metadata": {
    "solution2": "hidden"
   },
   "outputs": [],
   "source": [
    "print(a+b+c)"
   ]
  },
  {
   "cell_type": "code",
   "execution_count": null,
   "metadata": {},
   "outputs": [],
   "source": [
    "## Your solution goes here"
   ]
  },
  {
   "cell_type": "markdown",
   "metadata": {},
   "source": [
    "# Standard Data Types"
   ]
  },
  {
   "cell_type": "markdown",
   "metadata": {},
   "source": [
    "Python has 5 standard data-types:\n",
    "\n",
    "* Numbers\n",
    "\n",
    "* Strings\n",
    "\n",
    "* List\n",
    "\n",
    "* Tuple\n",
    "\n",
    "* Dictionary"
   ]
  },
  {
   "cell_type": "markdown",
   "metadata": {},
   "source": [
    "## Numbers"
   ]
  },
  {
   "cell_type": "markdown",
   "metadata": {},
   "source": [
    "Python supports three different numerical types:\n",
    "\n",
    "* int (signed integers)\n",
    "* float (floating point real values)\n",
    "* complex numbers\n",
    "\n",
    "We won't need further details for the scope of this course"
   ]
  },
  {
   "cell_type": "markdown",
   "metadata": {},
   "source": [
    "## Strings"
   ]
  },
  {
   "cell_type": "markdown",
   "metadata": {},
   "source": [
    "Strings are represented as set of characters inside quotation marks"
   ]
  },
  {
   "cell_type": "code",
   "execution_count": null,
   "metadata": {},
   "outputs": [],
   "source": [
    "var = 'Climate Risk Assessment'\n",
    "var # prints complete string"
   ]
  },
  {
   "cell_type": "markdown",
   "metadata": {},
   "source": [
    "**We can print subset of strings using slice operator given by the syntax var [start_index : end_index: step].**"
   ]
  },
  {
   "cell_type": "markdown",
   "metadata": {},
   "source": [
    "*Note: end_index is not included*"
   ]
  },
  {
   "cell_type": "markdown",
   "metadata": {},
   "source": [
    "### Indexing and slicing"
   ]
  },
  {
   "cell_type": "code",
   "execution_count": null,
   "metadata": {},
   "outputs": [],
   "source": [
    "var[0] # prints first character\n",
    "       # Note: index starts from zero"
   ]
  },
  {
   "cell_type": "markdown",
   "metadata": {},
   "source": [
    "**Note: Indexing in Python starts with 0**"
   ]
  },
  {
   "cell_type": "code",
   "execution_count": null,
   "metadata": {},
   "outputs": [],
   "source": [
    "var[0:7] # prints first character till 6th character\n",
    "         # Not necessary to specify step"
   ]
  },
  {
   "cell_type": "code",
   "execution_count": null,
   "metadata": {},
   "outputs": [],
   "source": [
    "var [8:] # prints 9th character till the end"
   ]
  },
  {
   "cell_type": "markdown",
   "metadata": {
    "solution": "hidden",
    "solution2": "hidden",
    "solution2_first": true,
    "solution_first": true
   },
   "source": [
    "**Task**: Calculate length of the string var? \n"
   ]
  },
  {
   "cell_type": "markdown",
   "metadata": {
    "solution": "hidden",
    "solution2": "hidden",
    "solution2_first": true
   },
   "source": [
    "*Hint*: Use the function len()"
   ]
  },
  {
   "cell_type": "code",
   "execution_count": null,
   "metadata": {
    "scrolled": true,
    "solution": "hidden",
    "solution2": "hidden"
   },
   "outputs": [],
   "source": [
    "len(var)"
   ]
  },
  {
   "cell_type": "markdown",
   "metadata": {
    "solution2": "hidden",
    "solution2_first": true
   },
   "source": [
    "**Task**: Print the last character of var"
   ]
  },
  {
   "cell_type": "code",
   "execution_count": null,
   "metadata": {
    "solution2": "hidden"
   },
   "outputs": [],
   "source": [
    "var[-1]"
   ]
  },
  {
   "cell_type": "markdown",
   "metadata": {},
   "source": [
    "## Lists"
   ]
  },
  {
   "cell_type": "markdown",
   "metadata": {},
   "source": [
    "Lists are group of items separated by commas and enclosed with square brackets [ ]. Lists are the most frequent data type in python. The items inside the list can be anything from a number to a string. A list can also be accessed in the same way as we saw above with strings using the slice operator."
   ]
  },
  {
   "cell_type": "code",
   "execution_count": null,
   "metadata": {},
   "outputs": [],
   "source": [
    "clothes = ['shirt', 'top', 'jeans', 'trousers', 'coat']"
   ]
  },
  {
   "cell_type": "markdown",
   "metadata": {},
   "source": [
    "### Indexing and Slicing"
   ]
  },
  {
   "cell_type": "markdown",
   "metadata": {},
   "source": [
    "Same syntax as used for strings before "
   ]
  },
  {
   "cell_type": "code",
   "execution_count": null,
   "metadata": {},
   "outputs": [],
   "source": [
    "clothes[1] # index"
   ]
  },
  {
   "cell_type": "code",
   "execution_count": null,
   "metadata": {},
   "outputs": [],
   "source": [
    "## Slicing as we saw for strings before\n",
    "clothes[:3]"
   ]
  },
  {
   "cell_type": "code",
   "execution_count": null,
   "metadata": {},
   "outputs": [],
   "source": [
    "numbers = [1,2,3,4,5,6,7,8,9,10,11,12]\n"
   ]
  },
  {
   "cell_type": "markdown",
   "metadata": {
    "solution2": "hidden",
    "solution2_first": true
   },
   "source": [
    "**Task: Can you print only the odd numbers from the above list?**"
   ]
  },
  {
   "cell_type": "code",
   "execution_count": null,
   "metadata": {
    "solution2": "hidden"
   },
   "outputs": [],
   "source": [
    "print(numbers[::2])"
   ]
  },
  {
   "cell_type": "code",
   "execution_count": null,
   "metadata": {},
   "outputs": [],
   "source": [
    "climate = [2.5, 'seaice', 'glaciers', 1.5] # you can include numbers and strings together\n"
   ]
  },
  {
   "cell_type": "markdown",
   "metadata": {},
   "source": [
    "### Adding Strings"
   ]
  },
  {
   "cell_type": "markdown",
   "metadata": {},
   "source": [
    "You can add two lists by using `+`"
   ]
  },
  {
   "cell_type": "code",
   "execution_count": null,
   "metadata": {},
   "outputs": [],
   "source": [
    "climate + clothes"
   ]
  },
  {
   "cell_type": "markdown",
   "metadata": {},
   "source": [
    "### Testing"
   ]
  },
  {
   "cell_type": "markdown",
   "metadata": {},
   "source": [
    "Syntax to test if an element belongs to a certain list is similar to writing it in English"
   ]
  },
  {
   "cell_type": "code",
   "execution_count": null,
   "metadata": {},
   "outputs": [],
   "source": [
    "'shirt' in clothes # just don't put the question mark at the end (;"
   ]
  },
  {
   "cell_type": "markdown",
   "metadata": {},
   "source": [
    "## Tuples"
   ]
  },
  {
   "cell_type": "markdown",
   "metadata": {},
   "source": [
    "Tuples are similar to lists in the sense that it's also a group of items but it's enclosed in small brackets ( ) compared to a list. Another important difference with lists is that *tuples are immutable*. That means we can't change the values inside a tuple. "
   ]
  },
  {
   "cell_type": "code",
   "execution_count": null,
   "metadata": {},
   "outputs": [],
   "source": [
    "mini_tuple = (2.5, 'seaice', 'glaciers', 1.5)\n",
    "mini_tuple"
   ]
  },
  {
   "cell_type": "markdown",
   "metadata": {},
   "source": [
    "**Indexing works the same way as in lists**"
   ]
  },
  {
   "cell_type": "code",
   "execution_count": null,
   "metadata": {},
   "outputs": [],
   "source": [
    "mini_tuple[2] "
   ]
  },
  {
   "cell_type": "code",
   "execution_count": null,
   "metadata": {},
   "outputs": [],
   "source": [
    "climate[3] = 'melting' # list items are mutable\n",
    "climate"
   ]
  },
  {
   "cell_type": "markdown",
   "metadata": {},
   "source": [
    "**Tuples are not mutable!**"
   ]
  },
  {
   "cell_type": "code",
   "execution_count": null,
   "metadata": {},
   "outputs": [],
   "source": [
    "mini_tuple[3] = 'melting' # tuples are not mutable"
   ]
  },
  {
   "cell_type": "markdown",
   "metadata": {},
   "source": [
    "Aha! our first error in Python "
   ]
  },
  {
   "cell_type": "markdown",
   "metadata": {},
   "source": [
    "## Python Dictionaries"
   ]
  },
  {
   "cell_type": "markdown",
   "metadata": {},
   "source": [
    "Python dictionaries consist of key-value pairs, like a dictionary book. You can also visualise it kind of like a table. Dictionary are declared with curly brackets { }.\n",
    "\n",
    "`Syntax`: dict = {key1:value1, key2:value2}\n",
    "\n",
    "* Key can be any number or string\n",
    "* Value can be anything"
   ]
  },
  {
   "cell_type": "code",
   "execution_count": null,
   "metadata": {},
   "outputs": [],
   "source": [
    "cl = {'climate': 'change', 'zip': 3012}"
   ]
  },
  {
   "cell_type": "code",
   "execution_count": null,
   "metadata": {},
   "outputs": [],
   "source": [
    "print (cl) # prints dictionary"
   ]
  },
  {
   "cell_type": "markdown",
   "metadata": {},
   "source": [
    "Values can be assigned or accessed using square brackets [ ]"
   ]
  },
  {
   "cell_type": "code",
   "execution_count": null,
   "metadata": {},
   "outputs": [],
   "source": [
    "cl['climate']"
   ]
  },
  {
   "cell_type": "markdown",
   "metadata": {},
   "source": [
    "### Accessing keys and values "
   ]
  },
  {
   "cell_type": "code",
   "execution_count": null,
   "metadata": {},
   "outputs": [],
   "source": [
    "print (cl.keys())"
   ]
  },
  {
   "cell_type": "code",
   "execution_count": null,
   "metadata": {},
   "outputs": [],
   "source": [
    "cl.values()"
   ]
  },
  {
   "cell_type": "raw",
   "metadata": {},
   "source": [
    "We also made our first internal-function call above by calling keys() and values(). Python is an objected-oriented programing language. For simplicity that means we can call internal functions using a dot operator, example .keys()"
   ]
  },
  {
   "cell_type": "markdown",
   "metadata": {},
   "source": [
    "-----------------------------------------------------------"
   ]
  },
  {
   "cell_type": "markdown",
   "metadata": {},
   "source": [
    "# Introduction to Numpy"
   ]
  },
  {
   "cell_type": "code",
   "execution_count": null,
   "metadata": {},
   "outputs": [],
   "source": [
    "import numpy as np"
   ]
  },
  {
   "cell_type": "markdown",
   "metadata": {},
   "source": [
    "## Why numpy is needed?"
   ]
  },
  {
   "cell_type": "markdown",
   "metadata": {},
   "source": [
    "`Numpy` is a library created to ease mathematical calculation in Python and offers fast and high performance computation. It's the most fundamental library for scientific computing/data analysis."
   ]
  },
  {
   "cell_type": "code",
   "execution_count": null,
   "metadata": {},
   "outputs": [],
   "source": [
    "# run this cell\n",
    "np?"
   ]
  },
  {
   "cell_type": "code",
   "execution_count": null,
   "metadata": {},
   "outputs": [],
   "source": [
    "Image(url= \"https://fgnt.github.io/python_crashkurs_doc/_images/numpy_array_t.png\")"
   ]
  },
  {
   "cell_type": "markdown",
   "metadata": {},
   "source": [
    "## Creating Numpy arrays from Python lists"
   ]
  },
  {
   "cell_type": "code",
   "execution_count": null,
   "metadata": {},
   "outputs": [],
   "source": [
    "a = [1,2,3,4,5,6] # normal list or a normal array\n",
    "# array is commonly referred to as a list of numbers"
   ]
  },
  {
   "cell_type": "markdown",
   "metadata": {},
   "source": [
    "### Method 1"
   ]
  },
  {
   "cell_type": "code",
   "execution_count": null,
   "metadata": {},
   "outputs": [],
   "source": [
    "## to create a numpy array of the above list a just call np.array(a)\n",
    "b = np.array(a)\n",
    "## or directly give the list into numpy array function\n",
    "c = np.array([1,2,3,4,5,6])"
   ]
  },
  {
   "cell_type": "code",
   "execution_count": null,
   "metadata": {},
   "outputs": [],
   "source": [
    "print (a)\n",
    "print (b)\n",
    "print (c)"
   ]
  },
  {
   "cell_type": "markdown",
   "metadata": {},
   "source": [
    "Note: it's hard to tell any difference using the print command. The missing commas is not really a difference and is not important"
   ]
  },
  {
   "cell_type": "code",
   "execution_count": null,
   "metadata": {},
   "outputs": [],
   "source": [
    "print(type(a))\n",
    "print(type(b))"
   ]
  },
  {
   "cell_type": "markdown",
   "metadata": {},
   "source": [
    "### Method 2"
   ]
  },
  {
   "cell_type": "code",
   "execution_count": null,
   "metadata": {},
   "outputs": [],
   "source": [
    "# There are many ways to create arrays\n",
    "## one of the most often used method is this..\n",
    "np.arange(0,10,2) # use shift-tab to see the syntax"
   ]
  },
  {
   "cell_type": "markdown",
   "metadata": {},
   "source": [
    "### Method 3"
   ]
  },
  {
   "cell_type": "markdown",
   "metadata": {},
   "source": [
    "Another useful way to create an array is when we want a given amount of number between a given range\n",
    "\n",
    "Example: if we need 50 numbers between 0-10"
   ]
  },
  {
   "cell_type": "code",
   "execution_count": null,
   "metadata": {},
   "outputs": [],
   "source": [
    "np.linspace(0,10,50)"
   ]
  },
  {
   "cell_type": "markdown",
   "metadata": {},
   "source": [
    "**Task: Lets say we're asked to calculate sum of only odd numbers lying between in 0-100.**"
   ]
  },
  {
   "cell_type": "code",
   "execution_count": null,
   "metadata": {},
   "outputs": [],
   "source": [
    "## lets create array of odd numbers between 0-100 using above function\n",
    "c = np.arange(1, 100, 2)\n",
    "c"
   ]
  },
  {
   "cell_type": "code",
   "execution_count": null,
   "metadata": {},
   "outputs": [],
   "source": [
    "# calculation of sum is as simple as this\n",
    "c.sum() # another usuage way is np.sum(c)"
   ]
  },
  {
   "cell_type": "code",
   "execution_count": null,
   "metadata": {},
   "outputs": [],
   "source": [
    "# we can also calculate mean for example\n",
    "c.mean()"
   ]
  },
  {
   "cell_type": "code",
   "execution_count": null,
   "metadata": {
    "scrolled": true
   },
   "outputs": [],
   "source": [
    "c. # press tab to see the numerous functions available"
   ]
  },
  {
   "cell_type": "markdown",
   "metadata": {},
   "source": [
    "## Multidimensional arrays"
   ]
  },
  {
   "cell_type": "markdown",
   "metadata": {},
   "source": [
    "Unlike Python lists, numpy arrays can be multidimensional like a matrix."
   ]
  },
  {
   "cell_type": "code",
   "execution_count": null,
   "metadata": {},
   "outputs": [],
   "source": [
    "np.ones(shape=(3,4)) # creates a 3x4 matrix"
   ]
  },
  {
   "cell_type": "markdown",
   "metadata": {},
   "source": [
    "This allows as to do Linear Algebra calculations"
   ]
  },
  {
   "cell_type": "markdown",
   "metadata": {},
   "source": [
    "`Numpy` offers huge amount of features which is not possible to cover in this class. But, if I was successful in convincing you to give `Python` a try then I would definetly recommend you to look up some free `Numpy` tutorial online and give it a try. It is very well documented."
   ]
  },
  {
   "cell_type": "markdown",
   "metadata": {},
   "source": [
    "[Numpy tutorial from Scipy, the official tool for scientific programming in Python](https://docs.scipy.org/doc/numpy-1.15.1/user/quickstart.html)"
   ]
  },
  {
   "cell_type": "markdown",
   "metadata": {},
   "source": [
    "# Zen of Python :)"
   ]
  },
  {
   "cell_type": "markdown",
   "metadata": {},
   "source": [
    "A collection of software principles that influence the design of Python"
   ]
  },
  {
   "cell_type": "code",
   "execution_count": null,
   "metadata": {},
   "outputs": [],
   "source": [
    ">>> import this"
   ]
  },
  {
   "cell_type": "markdown",
   "metadata": {},
   "source": [
    "# Supplementary info"
   ]
  },
  {
   "cell_type": "markdown",
   "metadata": {},
   "source": [
    "## How to install Jupyter notebooks on your PC"
   ]
  },
  {
   "cell_type": "markdown",
   "metadata": {},
   "source": [
    "Step 1: [Install conda](https://www.anaconda.com/distribution/). Download the file and run it. It will automatically install Python along with most commonly used packages. \n",
    "\n",
    "You might have to install some of the more specific packages on your own. Most likely, packages like xarray and cartopy need to be install separately.\n",
    "\n",
    "Step 2: For installing separate packages run the command below after opening an anaconda shell. You can also run the command in a windows/linux/apple shell.\n",
    "\n",
    "conda install xarray cartopy netCDF4 \n",
    "\n",
    "These packages should be sufficient to run the code used in this tutorial on your own PC\n",
    "\n",
    "Step3: After this you can use jupyter notebooks by just typing \"jupyter notebook\" on your PC. Alternatively, if you prefer graphical user interface then open Anaconda navigator which will open a graphical UI through which you can open Jupyter Notebooks, download and manage your packages, etc."
   ]
  },
  {
   "cell_type": "markdown",
   "metadata": {},
   "source": [
    "**Note: We won't be able to provide individual support for personal installation but Google is at your service.**"
   ]
  },
  {
   "cell_type": "code",
   "execution_count": null,
   "metadata": {},
   "outputs": [],
   "source": []
  }
 ],
 "metadata": {
  "kernelspec": {
   "display_name": "Python 3",
   "language": "python",
   "name": "python3"
  },
  "language_info": {
   "codemirror_mode": {
    "name": "ipython",
    "version": 3
   },
   "file_extension": ".py",
   "mimetype": "text/x-python",
   "name": "python",
   "nbconvert_exporter": "python",
   "pygments_lexer": "ipython3",
   "version": "3.6.7"
  },
  "toc": {
   "base_numbering": 1,
   "nav_menu": {},
   "number_sections": true,
   "sideBar": true,
   "skip_h1_title": false,
   "title_cell": "Table of Contents",
   "title_sidebar": "Contents",
   "toc_cell": true,
   "toc_position": {
    "height": "calc(100% - 180px)",
    "left": "10px",
    "top": "150px",
    "width": "276.4px"
   },
   "toc_section_display": true,
   "toc_window_display": true
  }
 },
 "nbformat": 4,
 "nbformat_minor": 2
}
