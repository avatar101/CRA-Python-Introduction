{
 "cells": [
  {
   "cell_type": "markdown",
   "metadata": {
    "toc": true
   },
   "source": [
    "<h1>Table of Contents<span class=\"tocSkip\"></span></h1>\n",
    "<div class=\"toc\"><ul class=\"toc-item\"><li><span><a href=\"#Why-Python?\" data-toc-modified-id=\"Why-Python?-1\"><span class=\"toc-item-num\">1&nbsp;&nbsp;</span>Why Python?</a></span><ul class=\"toc-item\"><li><span><a href=\"#Python-in-Science\" data-toc-modified-id=\"Python-in-Science-1.1\"><span class=\"toc-item-num\">1.1&nbsp;&nbsp;</span>Python in Science</a></span></li></ul></li><li><span><a href=\"#Using-Jupyter\" data-toc-modified-id=\"Using-Jupyter-2\"><span class=\"toc-item-num\">2&nbsp;&nbsp;</span>Using Jupyter</a></span><ul class=\"toc-item\"><li><span><a href=\"#Use-as-Shell-Terminal\" data-toc-modified-id=\"Use-as-Shell-Terminal-2.1\"><span class=\"toc-item-num\">2.1&nbsp;&nbsp;</span>Use as Shell Terminal</a></span></li></ul></li><li><span><a href=\"#Variables\" data-toc-modified-id=\"Variables-3\"><span class=\"toc-item-num\">3&nbsp;&nbsp;</span>Variables</a></span><ul class=\"toc-item\"><li><span><a href=\"#Assigning-values-to-the-variable\" data-toc-modified-id=\"Assigning-values-to-the-variable-3.1\"><span class=\"toc-item-num\">3.1&nbsp;&nbsp;</span>Assigning values to the variable</a></span><ul class=\"toc-item\"><li><span><a href=\"#Multiple-assignments\" data-toc-modified-id=\"Multiple-assignments-3.1.1\"><span class=\"toc-item-num\">3.1.1&nbsp;&nbsp;</span>Multiple assignments</a></span></li></ul></li></ul></li><li><span><a href=\"#Standard-Data-Types\" data-toc-modified-id=\"Standard-Data-Types-4\"><span class=\"toc-item-num\">4&nbsp;&nbsp;</span>Standard Data Types</a></span><ul class=\"toc-item\"><li><span><a href=\"#Numbers\" data-toc-modified-id=\"Numbers-4.1\"><span class=\"toc-item-num\">4.1&nbsp;&nbsp;</span>Numbers</a></span></li><li><span><a href=\"#Strings\" data-toc-modified-id=\"Strings-4.2\"><span class=\"toc-item-num\">4.2&nbsp;&nbsp;</span>Strings</a></span></li><li><span><a href=\"#Lists\" data-toc-modified-id=\"Lists-4.3\"><span class=\"toc-item-num\">4.3&nbsp;&nbsp;</span>Lists</a></span></li><li><span><a href=\"#Tuples\" data-toc-modified-id=\"Tuples-4.4\"><span class=\"toc-item-num\">4.4&nbsp;&nbsp;</span>Tuples</a></span></li><li><span><a href=\"#Python-Dictionaries\" data-toc-modified-id=\"Python-Dictionaries-4.5\"><span class=\"toc-item-num\">4.5&nbsp;&nbsp;</span>Python Dictionaries</a></span></li></ul></li><li><span><a href=\"#Introduction-to-Numpy\" data-toc-modified-id=\"Introduction-to-Numpy-5\"><span class=\"toc-item-num\">5&nbsp;&nbsp;</span>Introduction to Numpy</a></span><ul class=\"toc-item\"><li><span><a href=\"#Why-numpy-is-needed?\" data-toc-modified-id=\"Why-numpy-is-needed?-5.1\"><span class=\"toc-item-num\">5.1&nbsp;&nbsp;</span>Why numpy is needed?</a></span></li><li><span><a href=\"#Creating-Numpy-arrays-from-Python-lists\" data-toc-modified-id=\"Creating-Numpy-arrays-from-Python-lists-5.2\"><span class=\"toc-item-num\">5.2&nbsp;&nbsp;</span>Creating Numpy arrays from Python lists</a></span></li><li><span><a href=\"#Multidimensional-arrays\" data-toc-modified-id=\"Multidimensional-arrays-5.3\"><span class=\"toc-item-num\">5.3&nbsp;&nbsp;</span>Multidimensional arrays</a></span></li></ul></li><li><span><a href=\"#Zen-of-Python-:)\" data-toc-modified-id=\"Zen-of-Python-:)-6\"><span class=\"toc-item-num\">6&nbsp;&nbsp;</span>Zen of Python :)</a></span></li></ul></div>"
   ]
  },
  {
   "cell_type": "code",
   "execution_count": 1,
   "metadata": {
    "ExecuteTime": {
     "end_time": "2019-02-06T14:15:04.992418Z",
     "start_time": "2019-02-06T14:15:04.988010Z"
    }
   },
   "outputs": [],
   "source": [
    "from IPython.display import Image\n",
    "from IPython.core.display import HTML "
   ]
  },
  {
   "cell_type": "markdown",
   "metadata": {},
   "source": [
    "# Why Python?"
   ]
  },
  {
   "cell_type": "code",
   "execution_count": 2,
   "metadata": {
    "ExecuteTime": {
     "end_time": "2019-02-06T14:15:07.059828Z",
     "start_time": "2019-02-06T14:15:07.040806Z"
    }
   },
   "outputs": [
    {
     "data": {
      "text/html": [
       "<img src=\"https://cdn-images-1.medium.com/max/1600/1*JMP0SgtuTAO1A2Mj04qtfw.png\"/>"
      ],
      "text/plain": [
       "<IPython.core.display.Image object>"
      ]
     },
     "execution_count": 2,
     "metadata": {},
     "output_type": "execute_result"
    }
   ],
   "source": [
    "Image(url= \"https://cdn-images-1.medium.com/max/1600/1*JMP0SgtuTAO1A2Mj04qtfw.png\")"
   ]
  },
  {
   "cell_type": "markdown",
   "metadata": {},
   "source": [
    "Source: Stack Overflow"
   ]
  },
  {
   "cell_type": "code",
   "execution_count": 3,
   "metadata": {
    "ExecuteTime": {
     "end_time": "2019-01-31T17:06:45.247940Z",
     "start_time": "2019-01-31T17:06:45.237674Z"
    }
   },
   "outputs": [
    {
     "data": {
      "text/html": [
       "<img src=\"https://cdn-images-1.medium.com/max/800/1*hr4AQ8riFqCrUzncv0SaRA.png\"/>"
      ],
      "text/plain": [
       "<IPython.core.display.Image object>"
      ]
     },
     "execution_count": 3,
     "metadata": {},
     "output_type": "execute_result"
    }
   ],
   "source": [
    "Image(url= \"https://cdn-images-1.medium.com/max/800/1*hr4AQ8riFqCrUzncv0SaRA.png\")"
   ]
  },
  {
   "cell_type": "markdown",
   "metadata": {},
   "source": [
    "Souce: “Ranking Programming Languages by GitHub Users” — Ben Frederickson"
   ]
  },
  {
   "cell_type": "markdown",
   "metadata": {},
   "source": [
    "*  Python was designed for readability, and has some similarities to the English language with influence from mathematics.\n",
    "\n",
    "\n",
    "* Python uses new lines to complete a command, as opposed to other programming languages which often use semicolons or parentheses.\n",
    "\n",
    "\n",
    "* Python relies on indentation, using whitespace, to define scope; such as the scope of loops, functions and classes. Other programming languages often use curly-brackets for this purpose.\n",
    "\n",
    "\n",
    "* Python is a like a glue bringing lot of interdisciplinary work together"
   ]
  },
  {
   "cell_type": "markdown",
   "metadata": {
    "ExecuteTime": {
     "end_time": "2019-01-31T17:15:29.454240Z",
     "start_time": "2019-01-31T17:15:29.452540Z"
    }
   },
   "source": [
    "## Python in Science"
   ]
  },
  {
   "cell_type": "markdown",
   "metadata": {},
   "source": [
    "**Unexpected effectiveness of Python in science** - Jake VanderPlas"
   ]
  },
  {
   "cell_type": "code",
   "execution_count": 4,
   "metadata": {
    "ExecuteTime": {
     "end_time": "2019-01-31T17:13:46.894341Z",
     "start_time": "2019-01-31T17:13:46.885632Z"
    },
    "scrolled": false
   },
   "outputs": [
    {
     "data": {
      "text/html": [
       "<img src=\"https://image.slidesharecdn.com/pythonfordatascience-151126012608-lva1-app6892/95/why-python-is-better-for-data-science-25-638.jpg?cb=1448502501\"/>"
      ],
      "text/plain": [
       "<IPython.core.display.Image object>"
      ]
     },
     "execution_count": 4,
     "metadata": {},
     "output_type": "execute_result"
    }
   ],
   "source": [
    "Image(url=\"https://image.slidesharecdn.com/pythonfordatascience-151126012608-lva1-app6892/95/why-python-is-better-for-data-science-25-638.jpg?cb=1448502501\")"
   ]
  },
  {
   "cell_type": "markdown",
   "metadata": {},
   "source": [
    "Two versions of python exist Python2 and Python3. We work with Python3. Here you will find more details: https://wiki.python.org/moin/Python2orPython3"
   ]
  },
  {
   "cell_type": "markdown",
   "metadata": {},
   "source": [
    "# Using Jupyter"
   ]
  },
  {
   "cell_type": "markdown",
   "metadata": {},
   "source": [
    "Add a cell below this one and type print(\"Hello\") and run the cell"
   ]
  },
  {
   "cell_type": "code",
   "execution_count": 4,
   "metadata": {
    "ExecuteTime": {
     "end_time": "2019-02-06T17:21:22.489251Z",
     "start_time": "2019-02-06T17:21:22.481041Z"
    }
   },
   "outputs": [
    {
     "name": "stdout",
     "output_type": "stream",
     "text": [
      "Hello World!\n"
     ]
    }
   ],
   "source": [
    "print(\"Hello World!\")"
   ]
  },
  {
   "cell_type": "code",
   "execution_count": 6,
   "metadata": {
    "ExecuteTime": {
     "end_time": "2019-02-06T17:22:21.047765Z",
     "start_time": "2019-02-06T17:22:21.042248Z"
    }
   },
   "outputs": [
    {
     "data": {
      "text/plain": [
       "1440"
      ]
     },
     "execution_count": 6,
     "metadata": {},
     "output_type": "execute_result"
    }
   ],
   "source": [
    "## can also be used as a simple calculator\n",
    "60*24"
   ]
  },
  {
   "cell_type": "markdown",
   "metadata": {},
   "source": [
    "## Use as Shell Terminal"
   ]
  },
  {
   "cell_type": "markdown",
   "metadata": {},
   "source": [
    "Jupyter notebooks also provide in-built capabilites to display shell commands. Use ! (exclamation mark) in front of a shell command"
   ]
  },
  {
   "cell_type": "code",
   "execution_count": 10,
   "metadata": {
    "ExecuteTime": {
     "end_time": "2019-02-07T09:19:40.242235Z",
     "start_time": "2019-02-07T09:19:40.120265Z"
    }
   },
   "outputs": [
    {
     "name": "stdout",
     "output_type": "stream",
     "text": [
      "/home/mali/Documents\r\n"
     ]
    }
   ],
   "source": [
    "## Example\n",
    "!pwd"
   ]
  },
  {
   "cell_type": "markdown",
   "metadata": {},
   "source": [
    "# Variables"
   ]
  },
  {
   "cell_type": "markdown",
   "metadata": {},
   "source": [
    "Python variables can start with a to z or underscore. Variables are *case sensitve*. There are some resevered words that are used as Python keywords (see list included below). You can't use these words for declaring variables. "
   ]
  },
  {
   "cell_type": "code",
   "execution_count": 10,
   "metadata": {
    "ExecuteTime": {
     "end_time": "2019-01-31T17:31:32.677463Z",
     "start_time": "2019-01-31T17:31:32.672978Z"
    },
    "scrolled": true
   },
   "outputs": [
    {
     "data": {
      "text/html": [
       "<img src=\"https://i.imgur.com/ROm3pQd.png\"/>"
      ],
      "text/plain": [
       "<IPython.core.display.Image object>"
      ]
     },
     "execution_count": 10,
     "metadata": {},
     "output_type": "execute_result"
    }
   ],
   "source": [
    "## Python Keywords\n",
    "Image(url=\"https://i.imgur.com/ROm3pQd.png\")"
   ]
  },
  {
   "cell_type": "markdown",
   "metadata": {},
   "source": [
    "## Assigning values to the variable"
   ]
  },
  {
   "cell_type": "code",
   "execution_count": 4,
   "metadata": {
    "ExecuteTime": {
     "end_time": "2019-01-31T17:34:01.826460Z",
     "start_time": "2019-01-31T17:34:01.822143Z"
    }
   },
   "outputs": [
    {
     "name": "stdout",
     "output_type": "stream",
     "text": [
      "10\n",
      "110.0\n"
     ]
    }
   ],
   "source": [
    "a = 10         # integer\n",
    "b = 100.0      # float\n",
    "c = 'Climate'  # a string\n",
    "\n",
    "print(a)"
   ]
  },
  {
   "cell_type": "markdown",
   "metadata": {},
   "source": [
    "With the variables you can do simple arithmetics"
   ]
  },
  {
   "cell_type": "code",
   "execution_count": 6,
   "metadata": {},
   "outputs": [
    {
     "name": "stdout",
     "output_type": "stream",
     "text": [
      "110.0\n"
     ]
    }
   ],
   "source": [
    "print(a+b)"
   ]
  },
  {
   "cell_type": "raw",
   "metadata": {},
   "source": [
    "Tip: In a jupyter notebook environment you can just type the variable name to print it without using print command."
   ]
  },
  {
   "cell_type": "code",
   "execution_count": 5,
   "metadata": {
    "ExecuteTime": {
     "end_time": "2019-01-31T17:34:59.043502Z",
     "start_time": "2019-01-31T17:34:59.038162Z"
    }
   },
   "outputs": [
    {
     "data": {
      "text/plain": [
       "'Climate'"
      ]
     },
     "execution_count": 5,
     "metadata": {},
     "output_type": "execute_result"
    }
   ],
   "source": [
    "c"
   ]
  },
  {
   "cell_type": "markdown",
   "metadata": {},
   "source": [
    "Anything included inside ' ' or \" \" or \"\"\" \"\"\" is treated as a string."
   ]
  },
  {
   "cell_type": "markdown",
   "metadata": {},
   "source": [
    "### Multiple assignments"
   ]
  },
  {
   "cell_type": "code",
   "execution_count": 7,
   "metadata": {
    "ExecuteTime": {
     "end_time": "2019-01-31T17:35:39.189889Z",
     "start_time": "2019-01-31T17:35:39.179738Z"
    }
   },
   "outputs": [
    {
     "data": {
      "text/plain": [
       "20"
      ]
     },
     "execution_count": 7,
     "metadata": {},
     "output_type": "execute_result"
    }
   ],
   "source": [
    "## Multiple assignments\n",
    "a = b = c = 20\n",
    "b"
   ]
  },
  {
   "cell_type": "code",
   "execution_count": 3,
   "metadata": {
    "ExecuteTime": {
     "end_time": "2019-02-06T14:17:33.115959Z",
     "start_time": "2019-02-06T14:17:33.105115Z"
    }
   },
   "outputs": [
    {
     "data": {
      "text/plain": [
       "'Climate'"
      ]
     },
     "execution_count": 3,
     "metadata": {},
     "output_type": "execute_result"
    }
   ],
   "source": [
    "### This works too\n",
    "a, b, d = 10, 20, 'Climate'\n",
    "d"
   ]
  },
  {
   "cell_type": "markdown",
   "metadata": {},
   "source": [
    "**Task:** Calculate the sum of a,b,c and print the result"
   ]
  },
  {
   "cell_type": "code",
   "execution_count": null,
   "metadata": {},
   "outputs": [],
   "source": []
  },
  {
   "cell_type": "markdown",
   "metadata": {},
   "source": [
    "# Standard Data Types"
   ]
  },
  {
   "cell_type": "markdown",
   "metadata": {},
   "source": [
    "Python has 5 standard data-types:\n",
    "\n",
    "* Numbers\n",
    "\n",
    "* Strings\n",
    "\n",
    "* List\n",
    "\n",
    "* Tuple\n",
    "\n",
    "* Dictionary"
   ]
  },
  {
   "cell_type": "markdown",
   "metadata": {},
   "source": [
    "## Numbers"
   ]
  },
  {
   "cell_type": "markdown",
   "metadata": {},
   "source": [
    "Python supports three different numerical types:\n",
    "\n",
    "* int (signed integers)\n",
    "* float (floating point real values)\n",
    "* complex numbers\n",
    "\n",
    "We won't need further details for the scope of this course"
   ]
  },
  {
   "cell_type": "markdown",
   "metadata": {},
   "source": [
    "## Strings"
   ]
  },
  {
   "cell_type": "markdown",
   "metadata": {},
   "source": [
    "Strings are represented as set of characters inside quotation marks"
   ]
  },
  {
   "cell_type": "code",
   "execution_count": 9,
   "metadata": {
    "ExecuteTime": {
     "end_time": "2019-01-31T17:47:05.759815Z",
     "start_time": "2019-01-31T17:47:05.750468Z"
    }
   },
   "outputs": [
    {
     "data": {
      "text/plain": [
       "'Climate Risk Assessment'"
      ]
     },
     "execution_count": 9,
     "metadata": {},
     "output_type": "execute_result"
    }
   ],
   "source": [
    "var = 'Climate Risk Assessment'\n",
    "var # prints complete string"
   ]
  },
  {
   "cell_type": "markdown",
   "metadata": {},
   "source": [
    "We can print subset of strings using slice operator given by the syntax var [start_index : end_index]."
   ]
  },
  {
   "cell_type": "code",
   "execution_count": 10,
   "metadata": {
    "ExecuteTime": {
     "end_time": "2019-01-31T17:49:54.523104Z",
     "start_time": "2019-01-31T17:49:54.520620Z"
    }
   },
   "outputs": [
    {
     "data": {
      "text/plain": [
       "'C'"
      ]
     },
     "execution_count": 10,
     "metadata": {},
     "output_type": "execute_result"
    }
   ],
   "source": [
    "var[0] # prints first character\n",
    "       # Note: intex starts from zero"
   ]
  },
  {
   "cell_type": "code",
   "execution_count": 11,
   "metadata": {
    "ExecuteTime": {
     "end_time": "2019-01-31T17:52:25.772756Z",
     "start_time": "2019-01-31T17:52:25.768019Z"
    }
   },
   "outputs": [
    {
     "data": {
      "text/plain": [
       "'Climate'"
      ]
     },
     "execution_count": 11,
     "metadata": {},
     "output_type": "execute_result"
    }
   ],
   "source": [
    "var[0:7] # prints first character till 6th character"
   ]
  },
  {
   "cell_type": "code",
   "execution_count": 30,
   "metadata": {
    "ExecuteTime": {
     "end_time": "2019-01-31T17:52:52.623341Z",
     "start_time": "2019-01-31T17:52:52.618439Z"
    }
   },
   "outputs": [
    {
     "data": {
      "text/plain": [
       "'Risk Assessment'"
      ]
     },
     "execution_count": 30,
     "metadata": {},
     "output_type": "execute_result"
    }
   ],
   "source": [
    "var [8:] # prints 9th character till the end"
   ]
  },
  {
   "cell_type": "markdown",
   "metadata": {},
   "source": [
    "**Task**: Calculate length of the string var? Hint: Use the function len()"
   ]
  },
  {
   "cell_type": "code",
   "execution_count": 26,
   "metadata": {
    "ExecuteTime": {
     "end_time": "2019-01-31T17:51:36.915373Z",
     "start_time": "2019-01-31T17:51:36.910621Z"
    }
   },
   "outputs": [
    {
     "data": {
      "text/plain": [
       "23"
      ]
     },
     "execution_count": 26,
     "metadata": {},
     "output_type": "execute_result"
    }
   ],
   "source": [
    "len(var)"
   ]
  },
  {
   "cell_type": "markdown",
   "metadata": {},
   "source": [
    "Task: Extract the last character of var"
   ]
  },
  {
   "cell_type": "code",
   "execution_count": null,
   "metadata": {},
   "outputs": [],
   "source": []
  },
  {
   "cell_type": "markdown",
   "metadata": {},
   "source": [
    "Note that the indexing in Python starts with 0!!!"
   ]
  },
  {
   "cell_type": "markdown",
   "metadata": {},
   "source": [
    "## Lists"
   ]
  },
  {
   "cell_type": "markdown",
   "metadata": {},
   "source": [
    "Lists are group of items separated by commas and enclosed with square brackets [ ]. Lists are the most frequent data type in python. The items inside the list can be anything from a number to a string. A list can also be accessed in the same way as we saw above with strings using the slice operator."
   ]
  },
  {
   "cell_type": "code",
   "execution_count": 31,
   "metadata": {
    "ExecuteTime": {
     "end_time": "2019-01-31T17:57:19.144596Z",
     "start_time": "2019-01-31T17:57:19.142746Z"
    }
   },
   "outputs": [],
   "source": [
    "clothes = ['shirt', 'top', 'jeans']"
   ]
  },
  {
   "cell_type": "code",
   "execution_count": 32,
   "metadata": {
    "ExecuteTime": {
     "end_time": "2019-01-31T17:57:25.637364Z",
     "start_time": "2019-01-31T17:57:25.634793Z"
    }
   },
   "outputs": [
    {
     "data": {
      "text/plain": [
       "'top'"
      ]
     },
     "execution_count": 32,
     "metadata": {},
     "output_type": "execute_result"
    }
   ],
   "source": [
    "clothes[1]"
   ]
  },
  {
   "cell_type": "code",
   "execution_count": 33,
   "metadata": {
    "ExecuteTime": {
     "end_time": "2019-01-31T17:57:59.672547Z",
     "start_time": "2019-01-31T17:57:59.666916Z"
    }
   },
   "outputs": [
    {
     "data": {
      "text/plain": [
       "['top', 'jeans']"
      ]
     },
     "execution_count": 33,
     "metadata": {},
     "output_type": "execute_result"
    }
   ],
   "source": [
    "clothes[1:]"
   ]
  },
  {
   "cell_type": "code",
   "execution_count": 17,
   "metadata": {
    "ExecuteTime": {
     "end_time": "2019-01-31T17:59:48.006759Z",
     "start_time": "2019-01-31T17:59:48.003560Z"
    }
   },
   "outputs": [
    {
     "data": {
      "text/plain": [
       "[2.5, 'seaice', 'glaciers', 1.5]"
      ]
     },
     "execution_count": 17,
     "metadata": {},
     "output_type": "execute_result"
    }
   ],
   "source": [
    "climate = [2.5, 'seaice', 'glaciers', 1.5] # you can include numbers and strings together\n",
    "climate[:]"
   ]
  },
  {
   "cell_type": "markdown",
   "metadata": {},
   "source": [
    "You can add two lists by using `+`"
   ]
  },
  {
   "cell_type": "code",
   "execution_count": 37,
   "metadata": {
    "ExecuteTime": {
     "end_time": "2019-01-31T18:00:40.062052Z",
     "start_time": "2019-01-31T18:00:40.053683Z"
    }
   },
   "outputs": [
    {
     "data": {
      "text/plain": [
       "[2.5, 'seaice', 'glaciers', 1.5, 'shirt', 'top', 'jeans']"
      ]
     },
     "execution_count": 37,
     "metadata": {},
     "output_type": "execute_result"
    }
   ],
   "source": [
    "climate + clothes"
   ]
  },
  {
   "cell_type": "markdown",
   "metadata": {
    "ExecuteTime": {
     "end_time": "2019-01-31T18:01:37.656819Z",
     "start_time": "2019-01-31T18:01:37.655266Z"
    }
   },
   "source": [
    "## Tuples"
   ]
  },
  {
   "cell_type": "markdown",
   "metadata": {},
   "source": [
    "Tuples are similar to lists in the sense that it's also a group of items but it's enclosed in small barackets ( ) compared to a list. Another important difference with lists is that *tuples are immutable*. That means we can't change the values inside a tuple. "
   ]
  },
  {
   "cell_type": "code",
   "execution_count": 8,
   "metadata": {
    "ExecuteTime": {
     "end_time": "2019-02-06T17:24:14.654771Z",
     "start_time": "2019-02-06T17:24:14.651919Z"
    }
   },
   "outputs": [
    {
     "data": {
      "text/plain": [
       "(2.5, 'seaice', 'glaciers', 1.5)"
      ]
     },
     "execution_count": 8,
     "metadata": {},
     "output_type": "execute_result"
    }
   ],
   "source": [
    "miny_tuple = (2.5, 'seaice', 'glaciers', 1.5)\n",
    "miny_tuple"
   ]
  },
  {
   "cell_type": "code",
   "execution_count": 15,
   "metadata": {
    "ExecuteTime": {
     "end_time": "2019-01-31T18:13:26.861429Z",
     "start_time": "2019-01-31T18:13:26.852624Z"
    }
   },
   "outputs": [
    {
     "data": {
      "text/plain": [
       "'glaciers'"
      ]
     },
     "execution_count": 15,
     "metadata": {},
     "output_type": "execute_result"
    }
   ],
   "source": [
    "miny_tuple[2] # indexing works the same way"
   ]
  },
  {
   "cell_type": "code",
   "execution_count": 18,
   "metadata": {
    "ExecuteTime": {
     "end_time": "2019-01-31T18:14:59.599775Z",
     "start_time": "2019-01-31T18:14:59.597276Z"
    }
   },
   "outputs": [
    {
     "data": {
      "text/plain": [
       "[2.5, 'seaice', 'glaciers', 'melting']"
      ]
     },
     "execution_count": 18,
     "metadata": {},
     "output_type": "execute_result"
    }
   ],
   "source": [
    "climate[3] = 'melting' # list items are mutable\n",
    "climate"
   ]
  },
  {
   "cell_type": "code",
   "execution_count": 19,
   "metadata": {
    "ExecuteTime": {
     "end_time": "2019-01-31T18:15:45.179511Z",
     "start_time": "2019-01-31T18:15:45.136749Z"
    }
   },
   "outputs": [
    {
     "ename": "TypeError",
     "evalue": "'tuple' object does not support item assignment",
     "output_type": "error",
     "traceback": [
      "\u001b[0;31m---------------------------------------------------------------------------\u001b[0m",
      "\u001b[0;31mTypeError\u001b[0m                                 Traceback (most recent call last)",
      "\u001b[0;32m<ipython-input-19-4a35755be5ee>\u001b[0m in \u001b[0;36m<module>\u001b[0;34m()\u001b[0m\n\u001b[0;32m----> 1\u001b[0;31m \u001b[0mminy_tuple\u001b[0m\u001b[0;34m[\u001b[0m\u001b[0;36m3\u001b[0m\u001b[0;34m]\u001b[0m \u001b[0;34m=\u001b[0m \u001b[0;34m'melting'\u001b[0m \u001b[0;31m# tuples are not mutable\u001b[0m\u001b[0;34m\u001b[0m\u001b[0m\n\u001b[0m",
      "\u001b[0;31mTypeError\u001b[0m: 'tuple' object does not support item assignment"
     ]
    }
   ],
   "source": [
    "miny_tuple[3] = 'melting' # tuples are not mutable"
   ]
  },
  {
   "cell_type": "markdown",
   "metadata": {},
   "source": [
    "Aha! our first error in Python "
   ]
  },
  {
   "cell_type": "markdown",
   "metadata": {},
   "source": [
    "## Python Dictionaries"
   ]
  },
  {
   "cell_type": "markdown",
   "metadata": {},
   "source": [
    "Python dictionaries consist of key-value pairs, like a dictionary book. You can also visualise it kind of like a table. Dictionary are declared with curly brackets { }.\n",
    "\n",
    "`Syntax`: dict = {key1:value1, key2:value2}\n",
    "\n",
    "* Key can be any number or string\n",
    "* Value can be anything"
   ]
  },
  {
   "cell_type": "code",
   "execution_count": 20,
   "metadata": {
    "ExecuteTime": {
     "end_time": "2019-01-31T18:26:19.783731Z",
     "start_time": "2019-01-31T18:26:19.780509Z"
    }
   },
   "outputs": [],
   "source": [
    "cl = {'climate': 'change', 'zip': 3012}"
   ]
  },
  {
   "cell_type": "code",
   "execution_count": 21,
   "metadata": {
    "ExecuteTime": {
     "end_time": "2019-01-31T18:26:50.937770Z",
     "start_time": "2019-01-31T18:26:50.935665Z"
    }
   },
   "outputs": [
    {
     "name": "stdout",
     "output_type": "stream",
     "text": [
      "{'climate': 'change', 'zip': 3012}\n"
     ]
    }
   ],
   "source": [
    "print (cl) # prints dictionary"
   ]
  },
  {
   "cell_type": "raw",
   "metadata": {},
   "source": [
    "Values can be assigned or accessed using square brackets []"
   ]
  },
  {
   "cell_type": "code",
   "execution_count": 22,
   "metadata": {
    "ExecuteTime": {
     "end_time": "2019-01-31T18:27:47.945435Z",
     "start_time": "2019-01-31T18:27:47.936416Z"
    }
   },
   "outputs": [
    {
     "data": {
      "text/plain": [
       "'change'"
      ]
     },
     "execution_count": 22,
     "metadata": {},
     "output_type": "execute_result"
    }
   ],
   "source": [
    "cl['climate']"
   ]
  },
  {
   "cell_type": "code",
   "execution_count": 23,
   "metadata": {
    "ExecuteTime": {
     "end_time": "2019-01-31T18:28:04.517175Z",
     "start_time": "2019-01-31T18:28:04.515061Z"
    }
   },
   "outputs": [
    {
     "name": "stdout",
     "output_type": "stream",
     "text": [
      "dict_keys(['climate', 'zip'])\n"
     ]
    }
   ],
   "source": [
    "print (cl.keys())"
   ]
  },
  {
   "cell_type": "code",
   "execution_count": 24,
   "metadata": {
    "ExecuteTime": {
     "end_time": "2019-01-31T18:28:48.862316Z",
     "start_time": "2019-01-31T18:28:48.852713Z"
    }
   },
   "outputs": [
    {
     "data": {
      "text/plain": [
       "dict_values(['change', 3012])"
      ]
     },
     "execution_count": 24,
     "metadata": {},
     "output_type": "execute_result"
    }
   ],
   "source": [
    "cl.values()"
   ]
  },
  {
   "cell_type": "raw",
   "metadata": {},
   "source": [
    "We also made our first internal-function call above by calling keys() and values(). Python is an objected-oriented programing language. For simplicity that means we can call internal functions using a dot operator, example .keys()"
   ]
  },
  {
   "cell_type": "markdown",
   "metadata": {
    "ExecuteTime": {
     "end_time": "2019-01-31T18:36:11.790845Z",
     "start_time": "2019-01-31T18:36:11.785605Z"
    }
   },
   "source": [
    "-----------------------------------------------------------"
   ]
  },
  {
   "cell_type": "markdown",
   "metadata": {},
   "source": [
    "# Introduction to Numpy"
   ]
  },
  {
   "cell_type": "code",
   "execution_count": 2,
   "metadata": {
    "ExecuteTime": {
     "end_time": "2019-02-13T10:38:22.067107Z",
     "start_time": "2019-02-13T10:38:22.027214Z"
    }
   },
   "outputs": [],
   "source": [
    "import numpy as np"
   ]
  },
  {
   "cell_type": "markdown",
   "metadata": {},
   "source": [
    "## Why numpy is needed?"
   ]
  },
  {
   "cell_type": "markdown",
   "metadata": {},
   "source": [
    "`Numpy` is a library created to ease mathematical calculation in Python and offers fast and high performance computation. It's the most fundamental library for scientific computing/data analysis."
   ]
  },
  {
   "cell_type": "code",
   "execution_count": null,
   "metadata": {},
   "outputs": [],
   "source": [
    "np? # run this cell"
   ]
  },
  {
   "cell_type": "markdown",
   "metadata": {},
   "source": [
    "## Creating Numpy arrays from Python lists"
   ]
  },
  {
   "cell_type": "code",
   "execution_count": 2,
   "metadata": {
    "ExecuteTime": {
     "end_time": "2019-02-12T17:55:47.984770Z",
     "start_time": "2019-02-12T17:55:47.980557Z"
    }
   },
   "outputs": [],
   "source": [
    "a = [1,2,3,4,5,6] # normal list or a normal array\n",
    "# array is commonly referred to as a list of numbers"
   ]
  },
  {
   "cell_type": "code",
   "execution_count": 3,
   "metadata": {
    "ExecuteTime": {
     "end_time": "2019-02-12T17:57:44.587106Z",
     "start_time": "2019-02-12T17:57:44.582926Z"
    }
   },
   "outputs": [],
   "source": [
    "## to create a numpy array of the above list a just call np.array(a)\n",
    "b = np.array(a)\n",
    "## or directly give the list into numpy array function\n",
    "c = np.array([1,2,3,4,5,6])"
   ]
  },
  {
   "cell_type": "code",
   "execution_count": 4,
   "metadata": {
    "ExecuteTime": {
     "end_time": "2019-02-12T17:58:00.400287Z",
     "start_time": "2019-02-12T17:58:00.395083Z"
    }
   },
   "outputs": [
    {
     "name": "stdout",
     "output_type": "stream",
     "text": [
      "[1, 2, 3, 4, 5, 6]\n",
      "[1 2 3 4 5 6]\n",
      "[1 2 3 4 5 6]\n"
     ]
    }
   ],
   "source": [
    "print (a)\n",
    "print (b)\n",
    "print (c)"
   ]
  },
  {
   "cell_type": "markdown",
   "metadata": {
    "ExecuteTime": {
     "end_time": "2019-02-12T17:58:14.119185Z",
     "start_time": "2019-02-12T17:58:14.111266Z"
    }
   },
   "source": [
    "Note: it's hard to tell any difference using the print command. The missing commas is not really a difference and is not important"
   ]
  },
  {
   "cell_type": "code",
   "execution_count": 12,
   "metadata": {
    "ExecuteTime": {
     "end_time": "2019-02-12T18:01:22.885184Z",
     "start_time": "2019-02-12T18:01:22.880833Z"
    }
   },
   "outputs": [
    {
     "name": "stdout",
     "output_type": "stream",
     "text": [
      "<class 'list'>\n",
      "<class 'numpy.ndarray'>\n"
     ]
    }
   ],
   "source": [
    "print(type(a))\n",
    "print(type(b))"
   ]
  },
  {
   "cell_type": "code",
   "execution_count": 15,
   "metadata": {
    "ExecuteTime": {
     "end_time": "2019-02-12T18:10:38.435794Z",
     "start_time": "2019-02-12T18:10:38.430591Z"
    }
   },
   "outputs": [
    {
     "data": {
      "text/plain": [
       "array([0, 2, 4, 6, 8])"
      ]
     },
     "execution_count": 15,
     "metadata": {},
     "output_type": "execute_result"
    }
   ],
   "source": [
    "# There are many ways to create arrays\n",
    "## one of the most often used method is this..\n",
    "np.arange(0,10,2) # use shift-tab to see the syntax"
   ]
  },
  {
   "cell_type": "markdown",
   "metadata": {},
   "source": [
    "Another useful way to create an array is when we want a given amount of number between a given range\n",
    "\n",
    "Example: if we need 50 numbers between 0-10"
   ]
  },
  {
   "cell_type": "code",
   "execution_count": 28,
   "metadata": {
    "ExecuteTime": {
     "end_time": "2019-02-12T18:22:14.451767Z",
     "start_time": "2019-02-12T18:22:14.446331Z"
    }
   },
   "outputs": [
    {
     "data": {
      "text/plain": [
       "array([ 0.        ,  0.20408163,  0.40816327,  0.6122449 ,  0.81632653,\n",
       "        1.02040816,  1.2244898 ,  1.42857143,  1.63265306,  1.83673469,\n",
       "        2.04081633,  2.24489796,  2.44897959,  2.65306122,  2.85714286,\n",
       "        3.06122449,  3.26530612,  3.46938776,  3.67346939,  3.87755102,\n",
       "        4.08163265,  4.28571429,  4.48979592,  4.69387755,  4.89795918,\n",
       "        5.10204082,  5.30612245,  5.51020408,  5.71428571,  5.91836735,\n",
       "        6.12244898,  6.32653061,  6.53061224,  6.73469388,  6.93877551,\n",
       "        7.14285714,  7.34693878,  7.55102041,  7.75510204,  7.95918367,\n",
       "        8.16326531,  8.36734694,  8.57142857,  8.7755102 ,  8.97959184,\n",
       "        9.18367347,  9.3877551 ,  9.59183673,  9.79591837, 10.        ])"
      ]
     },
     "execution_count": 28,
     "metadata": {},
     "output_type": "execute_result"
    }
   ],
   "source": [
    "np.linspace(0,10,50)"
   ]
  },
  {
   "cell_type": "raw",
   "metadata": {},
   "source": [
    "Task: Lets say we're asked to calculate sum of only odd numbers lying between in 0-100."
   ]
  },
  {
   "cell_type": "code",
   "execution_count": 4,
   "metadata": {
    "ExecuteTime": {
     "end_time": "2019-02-13T10:39:04.492225Z",
     "start_time": "2019-02-13T10:39:04.484234Z"
    }
   },
   "outputs": [
    {
     "data": {
      "text/plain": [
       "array([ 1,  3,  5,  7,  9, 11, 13, 15, 17, 19, 21, 23, 25, 27, 29, 31, 33,\n",
       "       35, 37, 39, 41, 43, 45, 47, 49, 51, 53, 55, 57, 59, 61, 63, 65, 67,\n",
       "       69, 71, 73, 75, 77, 79, 81, 83, 85, 87, 89, 91, 93, 95, 97, 99])"
      ]
     },
     "execution_count": 4,
     "metadata": {},
     "output_type": "execute_result"
    }
   ],
   "source": [
    "## lets create array of odd numbers between 0-100 using above function\n",
    "c = np.arange(1, 100, 2)\n",
    "c"
   ]
  },
  {
   "cell_type": "code",
   "execution_count": 5,
   "metadata": {
    "ExecuteTime": {
     "end_time": "2019-02-13T10:39:05.171167Z",
     "start_time": "2019-02-13T10:39:05.168535Z"
    }
   },
   "outputs": [
    {
     "data": {
      "text/plain": [
       "2500"
      ]
     },
     "execution_count": 5,
     "metadata": {},
     "output_type": "execute_result"
    }
   ],
   "source": [
    "# calculation of sum is as simple as this\n",
    "c.sum() # another usuage way is np.sum(c)"
   ]
  },
  {
   "cell_type": "code",
   "execution_count": 20,
   "metadata": {
    "ExecuteTime": {
     "end_time": "2019-02-12T18:15:38.512714Z",
     "start_time": "2019-02-12T18:15:38.507704Z"
    }
   },
   "outputs": [
    {
     "data": {
      "text/plain": [
       "50.0"
      ]
     },
     "execution_count": 20,
     "metadata": {},
     "output_type": "execute_result"
    }
   ],
   "source": [
    "# we can also calculate mean for example\n",
    "c.mean()"
   ]
  },
  {
   "cell_type": "code",
   "execution_count": null,
   "metadata": {
    "ExecuteTime": {
     "end_time": "2019-02-12T18:15:44.025382Z",
     "start_time": "2019-02-12T18:15:44.020510Z"
    }
   },
   "outputs": [],
   "source": [
    "c. # press tab to see the numerous functions available"
   ]
  },
  {
   "cell_type": "markdown",
   "metadata": {},
   "source": [
    "## Multidimensional arrays"
   ]
  },
  {
   "cell_type": "markdown",
   "metadata": {},
   "source": [
    "Unlike Python lists, numpy arrays can be multidimensional like a matrix."
   ]
  },
  {
   "cell_type": "code",
   "execution_count": 22,
   "metadata": {
    "ExecuteTime": {
     "end_time": "2019-02-12T18:17:22.556876Z",
     "start_time": "2019-02-12T18:17:22.551773Z"
    }
   },
   "outputs": [
    {
     "data": {
      "text/plain": [
       "array([[1., 1., 1., 1.],\n",
       "       [1., 1., 1., 1.],\n",
       "       [1., 1., 1., 1.]])"
      ]
     },
     "execution_count": 22,
     "metadata": {},
     "output_type": "execute_result"
    }
   ],
   "source": [
    "np.ones(shape=(3,4)) # creates a 3x4 matrix"
   ]
  },
  {
   "cell_type": "markdown",
   "metadata": {},
   "source": [
    "This allows as to do Linear Algebra calculations"
   ]
  },
  {
   "cell_type": "markdown",
   "metadata": {},
   "source": [
    "`Numpy` offers huge amount of features which is not possible to cover in this class. But, if I was successful in convincing you to give `Python` a try then I would definetly recommend you to look up some free `Numpy` tutorial online and give it a try. It is very well documented."
   ]
  },
  {
   "cell_type": "markdown",
   "metadata": {},
   "source": [
    "[Numpy tutorial from Scipy, the official tool for scientific programming in Python](https://docs.scipy.org/doc/numpy-1.15.1/user/quickstart.html)"
   ]
  },
  {
   "cell_type": "markdown",
   "metadata": {
    "ExecuteTime": {
     "end_time": "2019-02-12T18:24:06.478178Z",
     "start_time": "2019-02-12T18:24:06.472846Z"
    }
   },
   "source": [
    "# Zen of Python :)"
   ]
  },
  {
   "cell_type": "markdown",
   "metadata": {},
   "source": [
    "A collection of software principles that influence the design of Python"
   ]
  },
  {
   "cell_type": "code",
   "execution_count": 25,
   "metadata": {
    "ExecuteTime": {
     "end_time": "2019-01-31T18:35:41.847902Z",
     "start_time": "2019-01-31T18:35:41.841166Z"
    },
    "scrolled": true
   },
   "outputs": [
    {
     "name": "stdout",
     "output_type": "stream",
     "text": [
      "The Zen of Python, by Tim Peters\n",
      "\n",
      "Beautiful is better than ugly.\n",
      "Explicit is better than implicit.\n",
      "Simple is better than complex.\n",
      "Complex is better than complicated.\n",
      "Flat is better than nested.\n",
      "Sparse is better than dense.\n",
      "Readability counts.\n",
      "Special cases aren't special enough to break the rules.\n",
      "Although practicality beats purity.\n",
      "Errors should never pass silently.\n",
      "Unless explicitly silenced.\n",
      "In the face of ambiguity, refuse the temptation to guess.\n",
      "There should be one-- and preferably only one --obvious way to do it.\n",
      "Although that way may not be obvious at first unless you're Dutch.\n",
      "Now is better than never.\n",
      "Although never is often better than *right* now.\n",
      "If the implementation is hard to explain, it's a bad idea.\n",
      "If the implementation is easy to explain, it may be a good idea.\n",
      "Namespaces are one honking great idea -- let's do more of those!\n"
     ]
    }
   ],
   "source": [
    "\n",
    ">>> import this"
   ]
  }
 ],
 "metadata": {
  "kernelspec": {
   "display_name": "Python [default]",
   "language": "python",
   "name": "python3"
  },
  "language_info": {
   "codemirror_mode": {
    "name": "ipython",
    "version": 3
   },
   "file_extension": ".py",
   "mimetype": "text/x-python",
   "name": "python",
   "nbconvert_exporter": "python",
   "pygments_lexer": "ipython3",
   "version": "3.6.3"
  },
  "toc": {
   "base_numbering": 1,
   "nav_menu": {},
   "number_sections": true,
   "sideBar": true,
   "skip_h1_title": false,
   "title_cell": "Table of Contents",
   "title_sidebar": "Contents",
   "toc_cell": true,
   "toc_position": {},
   "toc_section_display": true,
   "toc_window_display": true
  }
 },
 "nbformat": 4,
 "nbformat_minor": 2
}
